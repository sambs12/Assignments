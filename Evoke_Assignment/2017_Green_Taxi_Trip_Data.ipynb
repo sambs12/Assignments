{
  "nbformat": 4,
  "nbformat_minor": 0,
  "metadata": {
    "colab": {
      "name": "2017_Green Taxi_Trip_Data.ipynb",
      "provenance": [],
      "collapsed_sections": []
    },
    "kernelspec": {
      "name": "python3",
      "display_name": "Python 3"
    },
    "language_info": {
      "name": "python"
    }
  },
  "cells": [
    {
      "cell_type": "code",
      "metadata": {
        "id": "UmVbVdfTIAxK"
      },
      "source": [
        "# Importing the required libraires\n",
        "import pandas as pd\n",
        "import matplotlib.pyplot as plt\n",
        "import numpy as np\n",
        "import seaborn as sns\n",
        "%matplotlib inline\n",
        "from sklearn.preprocessing import LabelEncoder\n",
        "\n",
        "\n",
        "import warnings\n",
        "warnings.filterwarnings(\"ignore\")"
      ],
      "execution_count": 1,
      "outputs": []
    },
    {
      "cell_type": "code",
      "metadata": {
        "id": "PubIV8a4Ir47"
      },
      "source": [
        "# Reading the data from the csv file\n",
        "data = pd.read_csv(\"/content/drive/MyDrive/Colab Notebooks/Green Taxi 2017/2017_Green_Taxi_Trip_Data.csv\")"
      ],
      "execution_count": 2,
      "outputs": []
    },
    {
      "cell_type": "code",
      "metadata": {
        "colab": {
          "base_uri": "https://localhost:8080/"
        },
        "id": "j3jrNyD-CztR",
        "outputId": "ddb60749-5e6e-40fc-e4d1-c9ab54311676"
      },
      "source": [
        "# Selecting the January and February months data\n",
        "df = data.iloc[:2093524]\n",
        "print(df)"
      ],
      "execution_count": 3,
      "outputs": [
        {
          "output_type": "stream",
          "name": "stdout",
          "text": [
            "         VendorID    lpep_pickup_datetime  ... payment_type trip_type\n",
            "0               2  01/01/2017 12:01:15 AM  ...            2       1.0\n",
            "1               2  01/01/2017 12:03:34 AM  ...            2       1.0\n",
            "2               2  01/01/2017 12:04:02 AM  ...            1       1.0\n",
            "3               2  01/01/2017 12:01:40 AM  ...            2       1.0\n",
            "4               2  01/01/2017 12:00:51 AM  ...            2       1.0\n",
            "...           ...                     ...  ...          ...       ...\n",
            "2093519         1  02/28/2017 11:01:12 PM  ...            1       1.0\n",
            "2093520         1  02/28/2017 11:01:02 PM  ...            2       1.0\n",
            "2093521         1  02/28/2017 11:00:14 PM  ...            2       1.0\n",
            "2093522         1  02/28/2017 11:00:07 PM  ...            2       1.0\n",
            "2093523         1  02/28/2017 11:00:03 PM  ...            1       1.0\n",
            "\n",
            "[2093524 rows x 19 columns]\n"
          ]
        }
      ]
    },
    {
      "cell_type": "code",
      "metadata": {
        "colab": {
          "base_uri": "https://localhost:8080/"
        },
        "id": "M_WIWQupIV7L",
        "outputId": "90db0c77-e49a-4383-8084-7fb26ad96768"
      },
      "source": [
        "df.shape"
      ],
      "execution_count": 4,
      "outputs": [
        {
          "output_type": "execute_result",
          "data": {
            "text/plain": [
              "(2093524, 19)"
            ]
          },
          "metadata": {},
          "execution_count": 4
        }
      ]
    },
    {
      "cell_type": "code",
      "metadata": {
        "colab": {
          "base_uri": "https://localhost:8080/"
        },
        "id": "NBZREdsYIaKJ",
        "outputId": "3ddd520d-0b18-4a42-eefc-190c58a21d84"
      },
      "source": [
        "df.columns  "
      ],
      "execution_count": 5,
      "outputs": [
        {
          "output_type": "execute_result",
          "data": {
            "text/plain": [
              "Index(['VendorID', 'lpep_pickup_datetime', 'lpep_dropoff_datetime',\n",
              "       'store_and_fwd_flag', 'RatecodeID', 'PULocationID', 'DOLocationID',\n",
              "       'passenger_count', 'trip_distance', 'fare_amount', 'extra', 'mta_tax',\n",
              "       'tip_amount', 'tolls_amount', 'ehail_fee', 'improvement_surcharge',\n",
              "       'total_amount', 'payment_type', 'trip_type'],\n",
              "      dtype='object')"
            ]
          },
          "metadata": {},
          "execution_count": 5
        }
      ]
    },
    {
      "cell_type": "code",
      "metadata": {
        "colab": {
          "base_uri": "https://localhost:8080/"
        },
        "id": "TEyTiHG2IaN0",
        "outputId": "d0d9042c-4037-420d-e145-4e929c4e04cd"
      },
      "source": [
        "df.dtypes"
      ],
      "execution_count": 6,
      "outputs": [
        {
          "output_type": "execute_result",
          "data": {
            "text/plain": [
              "VendorID                   int64\n",
              "lpep_pickup_datetime      object\n",
              "lpep_dropoff_datetime     object\n",
              "store_and_fwd_flag        object\n",
              "RatecodeID                 int64\n",
              "PULocationID               int64\n",
              "DOLocationID               int64\n",
              "passenger_count            int64\n",
              "trip_distance            float64\n",
              "fare_amount              float64\n",
              "extra                    float64\n",
              "mta_tax                  float64\n",
              "tip_amount               float64\n",
              "tolls_amount             float64\n",
              "ehail_fee                float64\n",
              "improvement_surcharge    float64\n",
              "total_amount             float64\n",
              "payment_type               int64\n",
              "trip_type                float64\n",
              "dtype: object"
            ]
          },
          "metadata": {},
          "execution_count": 6
        }
      ]
    },
    {
      "cell_type": "code",
      "metadata": {
        "colab": {
          "base_uri": "https://localhost:8080/",
          "height": 307
        },
        "id": "MxdpG7UQIaRL",
        "outputId": "5fba505d-442c-4f7d-d670-37d4f5b1f92e"
      },
      "source": [
        "df.head()"
      ],
      "execution_count": 7,
      "outputs": [
        {
          "output_type": "execute_result",
          "data": {
            "text/html": [
              "<div>\n",
              "<style scoped>\n",
              "    .dataframe tbody tr th:only-of-type {\n",
              "        vertical-align: middle;\n",
              "    }\n",
              "\n",
              "    .dataframe tbody tr th {\n",
              "        vertical-align: top;\n",
              "    }\n",
              "\n",
              "    .dataframe thead th {\n",
              "        text-align: right;\n",
              "    }\n",
              "</style>\n",
              "<table border=\"1\" class=\"dataframe\">\n",
              "  <thead>\n",
              "    <tr style=\"text-align: right;\">\n",
              "      <th></th>\n",
              "      <th>VendorID</th>\n",
              "      <th>lpep_pickup_datetime</th>\n",
              "      <th>lpep_dropoff_datetime</th>\n",
              "      <th>store_and_fwd_flag</th>\n",
              "      <th>RatecodeID</th>\n",
              "      <th>PULocationID</th>\n",
              "      <th>DOLocationID</th>\n",
              "      <th>passenger_count</th>\n",
              "      <th>trip_distance</th>\n",
              "      <th>fare_amount</th>\n",
              "      <th>extra</th>\n",
              "      <th>mta_tax</th>\n",
              "      <th>tip_amount</th>\n",
              "      <th>tolls_amount</th>\n",
              "      <th>ehail_fee</th>\n",
              "      <th>improvement_surcharge</th>\n",
              "      <th>total_amount</th>\n",
              "      <th>payment_type</th>\n",
              "      <th>trip_type</th>\n",
              "    </tr>\n",
              "  </thead>\n",
              "  <tbody>\n",
              "    <tr>\n",
              "      <th>0</th>\n",
              "      <td>2</td>\n",
              "      <td>01/01/2017 12:01:15 AM</td>\n",
              "      <td>01/01/2017 12:11:05 AM</td>\n",
              "      <td>N</td>\n",
              "      <td>1</td>\n",
              "      <td>42</td>\n",
              "      <td>166</td>\n",
              "      <td>1</td>\n",
              "      <td>1.71</td>\n",
              "      <td>9.0</td>\n",
              "      <td>0.0</td>\n",
              "      <td>0.5</td>\n",
              "      <td>0.00</td>\n",
              "      <td>0.0</td>\n",
              "      <td>NaN</td>\n",
              "      <td>0.3</td>\n",
              "      <td>9.80</td>\n",
              "      <td>2</td>\n",
              "      <td>1.0</td>\n",
              "    </tr>\n",
              "    <tr>\n",
              "      <th>1</th>\n",
              "      <td>2</td>\n",
              "      <td>01/01/2017 12:03:34 AM</td>\n",
              "      <td>01/01/2017 12:09:00 AM</td>\n",
              "      <td>N</td>\n",
              "      <td>1</td>\n",
              "      <td>75</td>\n",
              "      <td>74</td>\n",
              "      <td>1</td>\n",
              "      <td>1.44</td>\n",
              "      <td>6.5</td>\n",
              "      <td>0.5</td>\n",
              "      <td>0.5</td>\n",
              "      <td>0.00</td>\n",
              "      <td>0.0</td>\n",
              "      <td>NaN</td>\n",
              "      <td>0.3</td>\n",
              "      <td>7.80</td>\n",
              "      <td>2</td>\n",
              "      <td>1.0</td>\n",
              "    </tr>\n",
              "    <tr>\n",
              "      <th>2</th>\n",
              "      <td>2</td>\n",
              "      <td>01/01/2017 12:04:02 AM</td>\n",
              "      <td>01/01/2017 12:12:55 AM</td>\n",
              "      <td>N</td>\n",
              "      <td>1</td>\n",
              "      <td>82</td>\n",
              "      <td>70</td>\n",
              "      <td>5</td>\n",
              "      <td>3.45</td>\n",
              "      <td>12.0</td>\n",
              "      <td>0.5</td>\n",
              "      <td>0.5</td>\n",
              "      <td>2.66</td>\n",
              "      <td>0.0</td>\n",
              "      <td>NaN</td>\n",
              "      <td>0.3</td>\n",
              "      <td>15.96</td>\n",
              "      <td>1</td>\n",
              "      <td>1.0</td>\n",
              "    </tr>\n",
              "    <tr>\n",
              "      <th>3</th>\n",
              "      <td>2</td>\n",
              "      <td>01/01/2017 12:01:40 AM</td>\n",
              "      <td>01/01/2017 12:14:23 AM</td>\n",
              "      <td>N</td>\n",
              "      <td>1</td>\n",
              "      <td>255</td>\n",
              "      <td>232</td>\n",
              "      <td>1</td>\n",
              "      <td>2.11</td>\n",
              "      <td>10.5</td>\n",
              "      <td>0.5</td>\n",
              "      <td>0.5</td>\n",
              "      <td>0.00</td>\n",
              "      <td>0.0</td>\n",
              "      <td>NaN</td>\n",
              "      <td>0.3</td>\n",
              "      <td>11.80</td>\n",
              "      <td>2</td>\n",
              "      <td>1.0</td>\n",
              "    </tr>\n",
              "    <tr>\n",
              "      <th>4</th>\n",
              "      <td>2</td>\n",
              "      <td>01/01/2017 12:00:51 AM</td>\n",
              "      <td>01/01/2017 12:18:55 AM</td>\n",
              "      <td>N</td>\n",
              "      <td>1</td>\n",
              "      <td>166</td>\n",
              "      <td>239</td>\n",
              "      <td>1</td>\n",
              "      <td>2.76</td>\n",
              "      <td>11.5</td>\n",
              "      <td>0.5</td>\n",
              "      <td>0.5</td>\n",
              "      <td>0.00</td>\n",
              "      <td>0.0</td>\n",
              "      <td>NaN</td>\n",
              "      <td>0.3</td>\n",
              "      <td>12.80</td>\n",
              "      <td>2</td>\n",
              "      <td>1.0</td>\n",
              "    </tr>\n",
              "  </tbody>\n",
              "</table>\n",
              "</div>"
            ],
            "text/plain": [
              "   VendorID    lpep_pickup_datetime  ... payment_type trip_type\n",
              "0         2  01/01/2017 12:01:15 AM  ...            2       1.0\n",
              "1         2  01/01/2017 12:03:34 AM  ...            2       1.0\n",
              "2         2  01/01/2017 12:04:02 AM  ...            1       1.0\n",
              "3         2  01/01/2017 12:01:40 AM  ...            2       1.0\n",
              "4         2  01/01/2017 12:00:51 AM  ...            2       1.0\n",
              "\n",
              "[5 rows x 19 columns]"
            ]
          },
          "metadata": {},
          "execution_count": 7
        }
      ]
    },
    {
      "cell_type": "code",
      "metadata": {
        "colab": {
          "base_uri": "https://localhost:8080/"
        },
        "id": "cUzQ3Te-IaUR",
        "outputId": "0c6d2530-879d-4798-83a7-63ba4eaeaed6"
      },
      "source": [
        "df.nunique()"
      ],
      "execution_count": 8,
      "outputs": [
        {
          "output_type": "execute_result",
          "data": {
            "text/plain": [
              "VendorID                       2\n",
              "lpep_pickup_datetime     1634921\n",
              "lpep_dropoff_datetime    1632341\n",
              "store_and_fwd_flag             2\n",
              "RatecodeID                     7\n",
              "PULocationID                 257\n",
              "DOLocationID                 259\n",
              "passenger_count               10\n",
              "trip_distance               3199\n",
              "fare_amount                  981\n",
              "extra                         10\n",
              "mta_tax                        5\n",
              "tip_amount                  1950\n",
              "tolls_amount                 141\n",
              "ehail_fee                      0\n",
              "improvement_surcharge          3\n",
              "total_amount                6492\n",
              "payment_type                   5\n",
              "trip_type                      2\n",
              "dtype: int64"
            ]
          },
          "metadata": {},
          "execution_count": 8
        }
      ]
    },
    {
      "cell_type": "code",
      "metadata": {
        "colab": {
          "base_uri": "https://localhost:8080/"
        },
        "id": "zQMsbrx4IaXU",
        "outputId": "59ed6165-d4a8-4c7a-c51d-aa6357a92d54"
      },
      "source": [
        "df.isnull().sum()"
      ],
      "execution_count": 9,
      "outputs": [
        {
          "output_type": "execute_result",
          "data": {
            "text/plain": [
              "VendorID                       0\n",
              "lpep_pickup_datetime           0\n",
              "lpep_dropoff_datetime          0\n",
              "store_and_fwd_flag             0\n",
              "RatecodeID                     0\n",
              "PULocationID                   0\n",
              "DOLocationID                   0\n",
              "passenger_count                0\n",
              "trip_distance                  0\n",
              "fare_amount                    0\n",
              "extra                          0\n",
              "mta_tax                        0\n",
              "tip_amount                     0\n",
              "tolls_amount                   0\n",
              "ehail_fee                2093524\n",
              "improvement_surcharge          0\n",
              "total_amount                   0\n",
              "payment_type                   0\n",
              "trip_type                      0\n",
              "dtype: int64"
            ]
          },
          "metadata": {},
          "execution_count": 9
        }
      ]
    },
    {
      "cell_type": "code",
      "metadata": {
        "id": "iunleI4aIaaj"
      },
      "source": [
        "# type of 'lpep_pickup_datetime' and 'lpep_dropoff_datetime' are object and we need to convert the type to datetime.\n",
        "df['lpep_pickup_datetime']=pd.to_datetime(df['lpep_pickup_datetime'])\n",
        "df['lpep_dropoff_datetime']=pd.to_datetime(df['lpep_dropoff_datetime'])"
      ],
      "execution_count": 10,
      "outputs": []
    },
    {
      "cell_type": "code",
      "metadata": {
        "colab": {
          "base_uri": "https://localhost:8080/"
        },
        "id": "VTT6qVQPIadr",
        "outputId": "824cc479-74b4-4afe-cb01-147257d7b113"
      },
      "source": [
        "print(df['lpep_pickup_datetime'].dtypes)\n",
        "print(df['lpep_dropoff_datetime'].dtypes)"
      ],
      "execution_count": 11,
      "outputs": [
        {
          "output_type": "stream",
          "name": "stdout",
          "text": [
            "datetime64[ns]\n",
            "datetime64[ns]\n"
          ]
        }
      ]
    },
    {
      "cell_type": "markdown",
      "metadata": {
        "id": "uh8fDQb24HMC"
      },
      "source": [
        "Getting the Day name, date, hour, month from the date columns"
      ]
    },
    {
      "cell_type": "code",
      "metadata": {
        "id": "hxR6QbahIahC"
      },
      "source": [
        "df['pickup_day'] = df['lpep_pickup_datetime'].dt.day_name()\n",
        "df['dropoff_day'] = df['lpep_dropoff_datetime'].dt.day_name()"
      ],
      "execution_count": 12,
      "outputs": []
    },
    {
      "cell_type": "code",
      "metadata": {
        "id": "nLwPzejEInGz"
      },
      "source": [
        "df['pickup_day_no'] = df['lpep_pickup_datetime'].dt.weekday\n",
        "df['dropoff_day_no'] = df['lpep_dropoff_datetime'].dt.weekday"
      ],
      "execution_count": 13,
      "outputs": []
    },
    {
      "cell_type": "code",
      "metadata": {
        "id": "Oo6AzmtZInKG"
      },
      "source": [
        "df['pickup_hour'] = df['lpep_pickup_datetime'].dt.hour\n",
        "df['dropoff_hour'] = df['lpep_dropoff_datetime'].dt.hour"
      ],
      "execution_count": 14,
      "outputs": []
    },
    {
      "cell_type": "code",
      "metadata": {
        "id": "o5M_W-ajInNS"
      },
      "source": [
        "df['pickup_month'] = df['lpep_pickup_datetime'].dt.month\n",
        "df['dropoff_month'] = df['lpep_dropoff_datetime'].dt.month"
      ],
      "execution_count": 15,
      "outputs": []
    },
    {
      "cell_type": "code",
      "metadata": {
        "id": "xK5C1yDIInQk",
        "colab": {
          "base_uri": "https://localhost:8080/",
          "height": 223
        },
        "outputId": "deb22512-2dbc-4183-c35f-2d4b46418279"
      },
      "source": [
        "df.head()"
      ],
      "execution_count": 16,
      "outputs": [
        {
          "output_type": "execute_result",
          "data": {
            "text/html": [
              "<div>\n",
              "<style scoped>\n",
              "    .dataframe tbody tr th:only-of-type {\n",
              "        vertical-align: middle;\n",
              "    }\n",
              "\n",
              "    .dataframe tbody tr th {\n",
              "        vertical-align: top;\n",
              "    }\n",
              "\n",
              "    .dataframe thead th {\n",
              "        text-align: right;\n",
              "    }\n",
              "</style>\n",
              "<table border=\"1\" class=\"dataframe\">\n",
              "  <thead>\n",
              "    <tr style=\"text-align: right;\">\n",
              "      <th></th>\n",
              "      <th>VendorID</th>\n",
              "      <th>lpep_pickup_datetime</th>\n",
              "      <th>lpep_dropoff_datetime</th>\n",
              "      <th>store_and_fwd_flag</th>\n",
              "      <th>RatecodeID</th>\n",
              "      <th>PULocationID</th>\n",
              "      <th>DOLocationID</th>\n",
              "      <th>passenger_count</th>\n",
              "      <th>trip_distance</th>\n",
              "      <th>fare_amount</th>\n",
              "      <th>extra</th>\n",
              "      <th>mta_tax</th>\n",
              "      <th>tip_amount</th>\n",
              "      <th>tolls_amount</th>\n",
              "      <th>ehail_fee</th>\n",
              "      <th>improvement_surcharge</th>\n",
              "      <th>total_amount</th>\n",
              "      <th>payment_type</th>\n",
              "      <th>trip_type</th>\n",
              "      <th>pickup_day</th>\n",
              "      <th>dropoff_day</th>\n",
              "      <th>pickup_day_no</th>\n",
              "      <th>dropoff_day_no</th>\n",
              "      <th>pickup_hour</th>\n",
              "      <th>dropoff_hour</th>\n",
              "      <th>pickup_month</th>\n",
              "      <th>dropoff_month</th>\n",
              "    </tr>\n",
              "  </thead>\n",
              "  <tbody>\n",
              "    <tr>\n",
              "      <th>0</th>\n",
              "      <td>2</td>\n",
              "      <td>2017-01-01 00:01:15</td>\n",
              "      <td>2017-01-01 00:11:05</td>\n",
              "      <td>N</td>\n",
              "      <td>1</td>\n",
              "      <td>42</td>\n",
              "      <td>166</td>\n",
              "      <td>1</td>\n",
              "      <td>1.71</td>\n",
              "      <td>9.0</td>\n",
              "      <td>0.0</td>\n",
              "      <td>0.5</td>\n",
              "      <td>0.00</td>\n",
              "      <td>0.0</td>\n",
              "      <td>NaN</td>\n",
              "      <td>0.3</td>\n",
              "      <td>9.80</td>\n",
              "      <td>2</td>\n",
              "      <td>1.0</td>\n",
              "      <td>Sunday</td>\n",
              "      <td>Sunday</td>\n",
              "      <td>6</td>\n",
              "      <td>6</td>\n",
              "      <td>0</td>\n",
              "      <td>0</td>\n",
              "      <td>1</td>\n",
              "      <td>1</td>\n",
              "    </tr>\n",
              "    <tr>\n",
              "      <th>1</th>\n",
              "      <td>2</td>\n",
              "      <td>2017-01-01 00:03:34</td>\n",
              "      <td>2017-01-01 00:09:00</td>\n",
              "      <td>N</td>\n",
              "      <td>1</td>\n",
              "      <td>75</td>\n",
              "      <td>74</td>\n",
              "      <td>1</td>\n",
              "      <td>1.44</td>\n",
              "      <td>6.5</td>\n",
              "      <td>0.5</td>\n",
              "      <td>0.5</td>\n",
              "      <td>0.00</td>\n",
              "      <td>0.0</td>\n",
              "      <td>NaN</td>\n",
              "      <td>0.3</td>\n",
              "      <td>7.80</td>\n",
              "      <td>2</td>\n",
              "      <td>1.0</td>\n",
              "      <td>Sunday</td>\n",
              "      <td>Sunday</td>\n",
              "      <td>6</td>\n",
              "      <td>6</td>\n",
              "      <td>0</td>\n",
              "      <td>0</td>\n",
              "      <td>1</td>\n",
              "      <td>1</td>\n",
              "    </tr>\n",
              "    <tr>\n",
              "      <th>2</th>\n",
              "      <td>2</td>\n",
              "      <td>2017-01-01 00:04:02</td>\n",
              "      <td>2017-01-01 00:12:55</td>\n",
              "      <td>N</td>\n",
              "      <td>1</td>\n",
              "      <td>82</td>\n",
              "      <td>70</td>\n",
              "      <td>5</td>\n",
              "      <td>3.45</td>\n",
              "      <td>12.0</td>\n",
              "      <td>0.5</td>\n",
              "      <td>0.5</td>\n",
              "      <td>2.66</td>\n",
              "      <td>0.0</td>\n",
              "      <td>NaN</td>\n",
              "      <td>0.3</td>\n",
              "      <td>15.96</td>\n",
              "      <td>1</td>\n",
              "      <td>1.0</td>\n",
              "      <td>Sunday</td>\n",
              "      <td>Sunday</td>\n",
              "      <td>6</td>\n",
              "      <td>6</td>\n",
              "      <td>0</td>\n",
              "      <td>0</td>\n",
              "      <td>1</td>\n",
              "      <td>1</td>\n",
              "    </tr>\n",
              "    <tr>\n",
              "      <th>3</th>\n",
              "      <td>2</td>\n",
              "      <td>2017-01-01 00:01:40</td>\n",
              "      <td>2017-01-01 00:14:23</td>\n",
              "      <td>N</td>\n",
              "      <td>1</td>\n",
              "      <td>255</td>\n",
              "      <td>232</td>\n",
              "      <td>1</td>\n",
              "      <td>2.11</td>\n",
              "      <td>10.5</td>\n",
              "      <td>0.5</td>\n",
              "      <td>0.5</td>\n",
              "      <td>0.00</td>\n",
              "      <td>0.0</td>\n",
              "      <td>NaN</td>\n",
              "      <td>0.3</td>\n",
              "      <td>11.80</td>\n",
              "      <td>2</td>\n",
              "      <td>1.0</td>\n",
              "      <td>Sunday</td>\n",
              "      <td>Sunday</td>\n",
              "      <td>6</td>\n",
              "      <td>6</td>\n",
              "      <td>0</td>\n",
              "      <td>0</td>\n",
              "      <td>1</td>\n",
              "      <td>1</td>\n",
              "    </tr>\n",
              "    <tr>\n",
              "      <th>4</th>\n",
              "      <td>2</td>\n",
              "      <td>2017-01-01 00:00:51</td>\n",
              "      <td>2017-01-01 00:18:55</td>\n",
              "      <td>N</td>\n",
              "      <td>1</td>\n",
              "      <td>166</td>\n",
              "      <td>239</td>\n",
              "      <td>1</td>\n",
              "      <td>2.76</td>\n",
              "      <td>11.5</td>\n",
              "      <td>0.5</td>\n",
              "      <td>0.5</td>\n",
              "      <td>0.00</td>\n",
              "      <td>0.0</td>\n",
              "      <td>NaN</td>\n",
              "      <td>0.3</td>\n",
              "      <td>12.80</td>\n",
              "      <td>2</td>\n",
              "      <td>1.0</td>\n",
              "      <td>Sunday</td>\n",
              "      <td>Sunday</td>\n",
              "      <td>6</td>\n",
              "      <td>6</td>\n",
              "      <td>0</td>\n",
              "      <td>0</td>\n",
              "      <td>1</td>\n",
              "      <td>1</td>\n",
              "    </tr>\n",
              "  </tbody>\n",
              "</table>\n",
              "</div>"
            ],
            "text/plain": [
              "   VendorID lpep_pickup_datetime  ... pickup_month dropoff_month\n",
              "0         2  2017-01-01 00:01:15  ...            1             1\n",
              "1         2  2017-01-01 00:03:34  ...            1             1\n",
              "2         2  2017-01-01 00:04:02  ...            1             1\n",
              "3         2  2017-01-01 00:01:40  ...            1             1\n",
              "4         2  2017-01-01 00:00:51  ...            1             1\n",
              "\n",
              "[5 rows x 27 columns]"
            ]
          },
          "metadata": {},
          "execution_count": 16
        }
      ]
    },
    {
      "cell_type": "code",
      "metadata": {
        "id": "uucEi7rK7j8Q"
      },
      "source": [
        "df['trip_duration'] = ((df.lpep_dropoff_datetime-df.lpep_pickup_datetime).apply(lambda x:x.total_seconds()/60.))\n",
        "df['speed_mph'] = df.trip_distance/(df.trip_duration/60)"
      ],
      "execution_count": 17,
      "outputs": []
    },
    {
      "cell_type": "code",
      "metadata": {
        "colab": {
          "base_uri": "https://localhost:8080/"
        },
        "id": "wVhZz5ZsUTig",
        "outputId": "dafb9220-f9aa-4c83-965f-20591f7743c4"
      },
      "source": [
        "df.nunique()"
      ],
      "execution_count": 18,
      "outputs": [
        {
          "output_type": "execute_result",
          "data": {
            "text/plain": [
              "VendorID                       2\n",
              "lpep_pickup_datetime     1634921\n",
              "lpep_dropoff_datetime    1632341\n",
              "store_and_fwd_flag             2\n",
              "RatecodeID                     7\n",
              "PULocationID                 257\n",
              "DOLocationID                 259\n",
              "passenger_count               10\n",
              "trip_distance               3199\n",
              "fare_amount                  981\n",
              "extra                         10\n",
              "mta_tax                        5\n",
              "tip_amount                  1950\n",
              "tolls_amount                 141\n",
              "ehail_fee                      0\n",
              "improvement_surcharge          3\n",
              "total_amount                6492\n",
              "payment_type                   5\n",
              "trip_type                      2\n",
              "pickup_day                     7\n",
              "dropoff_day                    7\n",
              "pickup_day_no                  7\n",
              "dropoff_day_no                 7\n",
              "pickup_hour                   24\n",
              "dropoff_hour                  24\n",
              "pickup_month                   2\n",
              "dropoff_month                  3\n",
              "trip_duration              13141\n",
              "speed_mph                 426026\n",
              "dtype: int64"
            ]
          },
          "metadata": {},
          "execution_count": 18
        }
      ]
    },
    {
      "cell_type": "code",
      "metadata": {
        "colab": {
          "base_uri": "https://localhost:8080/"
        },
        "id": "GMmbcaKiTzjm",
        "outputId": "2fc829c6-e05c-43ac-81f3-bff474d6801c"
      },
      "source": [
        "for item in df.columns:\n",
        "    print(item, \": \" )\n",
        "    print(df[item].unique())\n",
        "    print(df[item].value_counts())\n",
        "    print(\"************************************************\")"
      ],
      "execution_count": 19,
      "outputs": [
        {
          "output_type": "stream",
          "name": "stdout",
          "text": [
            "VendorID : \n",
            "[2 1]\n",
            "2    1669615\n",
            "1     423909\n",
            "Name: VendorID, dtype: int64\n",
            "************************************************\n",
            "lpep_pickup_datetime : \n",
            "['2017-01-01T00:01:15.000000000' '2017-01-01T00:03:34.000000000'\n",
            " '2017-01-01T00:04:02.000000000' ... '2017-02-28T23:00:14.000000000'\n",
            " '2017-02-28T23:00:07.000000000' '2017-02-28T23:00:03.000000000']\n",
            "2017-01-20 11:08:51    13\n",
            "2017-01-31 11:26:50    11\n",
            "2017-01-30 10:35:43    11\n",
            "2017-01-23 12:29:20    10\n",
            "2017-02-14 12:03:21    10\n",
            "                       ..\n",
            "2017-02-22 06:09:19     1\n",
            "2017-02-28 16:40:42     1\n",
            "2017-02-16 10:15:21     1\n",
            "2017-01-20 09:34:46     1\n",
            "2017-02-17 09:09:46     1\n",
            "Name: lpep_pickup_datetime, Length: 1634921, dtype: int64\n",
            "************************************************\n",
            "lpep_dropoff_datetime : \n",
            "['2017-01-01T00:11:05.000000000' '2017-01-01T00:09:00.000000000'\n",
            " '2017-01-01T00:12:55.000000000' ... '2017-02-28T23:03:31.000000000'\n",
            " '2017-02-28T23:10:08.000000000' '2017-02-28T23:29:16.000000000']\n",
            "2017-02-05 00:00:00    75\n",
            "2017-01-22 00:00:00    73\n",
            "2017-02-04 00:00:00    72\n",
            "2017-02-26 00:00:00    69\n",
            "2017-01-30 00:00:00    68\n",
            "                       ..\n",
            "2017-02-25 23:08:51     1\n",
            "2017-01-31 13:31:54     1\n",
            "2017-01-24 12:56:40     1\n",
            "2017-02-14 17:11:04     1\n",
            "2017-01-08 13:36:51     1\n",
            "Name: lpep_dropoff_datetime, Length: 1632341, dtype: int64\n",
            "************************************************\n",
            "store_and_fwd_flag : \n",
            "['N' 'Y']\n",
            "N    2090091\n",
            "Y       3433\n",
            "Name: store_and_fwd_flag, dtype: int64\n",
            "************************************************\n",
            "RatecodeID : \n",
            "[ 1  5  4  2  3  6 99]\n",
            "1     2046214\n",
            "5       40832\n",
            "2        4189\n",
            "3        1219\n",
            "4        1042\n",
            "6          27\n",
            "99          1\n",
            "Name: RatecodeID, dtype: int64\n",
            "************************************************\n",
            "PULocationID : \n",
            "[ 42  75  82 255 166 179  74 112  36 127  41  97  70   7 256 181 129  91\n",
            " 228 126  37 145 130 215 189 117  61  17  65  95 134  80 173  83 116  25\n",
            "  52  33 152 226 260 153 244  24 106 102  14  49 146  92 223 216 168 217\n",
            "  18 196 248 159 241 198  56 188  62 193  66 247  40  69 174 119 220  94\n",
            " 264 190 250  20 254 257 243 208 195 177 136  32  89  54 169  16 157  47\n",
            "  85  21 133 225  63  55 210 212  77 240  31 265 135 242 167  51 218  28\n",
            "  26 122  35 235  76 111 182 108 213 258 185  78  43 192 131  60 147  34\n",
            " 175 263 197   9  22  71 236 227  96 123  81 205  29  39  93 149  57  59\n",
            " 121 137 202  67 222  72  15 172  44 160  53 194 171 259 206  11  10   3\n",
            " 124 200 138 155 120 150 165 180 252 132 262 249 239 183 201  86 191 178\n",
            " 184   8 251  73 154   1 219 139 204  46 115 101 221 203 128  64  79  88\n",
            " 151 234  98 156 207  38   6  19 253  58  68 186 229 231 214 187 100 118\n",
            " 230  90 140 238 158 245 163 107 148 141  23 237 161 142 162 233 113  48\n",
            " 164 125 232 170 114 261  87 211 246  50 143   4  13   2 109 209 144   5\n",
            " 224  30  12  45 176]\n",
            "74    121381\n",
            "41    119159\n",
            "75    110688\n",
            "7     107292\n",
            "82     87719\n",
            "       ...  \n",
            "12         1\n",
            "45         1\n",
            "5          1\n",
            "4          1\n",
            "2          1\n",
            "Name: PULocationID, Length: 257, dtype: int64\n",
            "************************************************\n",
            "DOLocationID : \n",
            "[166  74  70 232 239 226 167  37 174 238 228  26 173  40 260  36 223 106\n",
            " 107  56 152 188 140 159 181  43  63   7  75  25 205 129  10 117 225  97\n",
            "  17 121  28 229 197 112  49  82 151 263  41 116 243 147  95  65  33  52\n",
            " 145  13  67 213  83 249 179  61 244 142  53 255 148 218  14 202  80 141\n",
            " 256 162 200 189 258  79 171 196 193  35  42  34  48 222 119 248  87 169\n",
            " 198 216 217 157 127 227 123  69 168 114 261 231 241 235  45  57 234 164\n",
            " 224 102   3  62  89 134 220 247  24 101  47 146  92 137  18 182 135 158\n",
            " 125 170   4 161 190  72 236  78  73  66 265  32 246  88 240 250 144 215\n",
            "  20 254  85 257 208  50 195 186 163 252  90  16 192  76 133 136  39 185\n",
            " 160  71   9 209 126 242 259 165 143  54  77  91 113  22 155 237 130  68\n",
            "  59 203 153 233 211 131  21  55 108 264  94 201 184 210 175 100  81 177\n",
            " 149 111  11 124 150 262  15  98  46  60 219 180 191 120 138  96 212  93\n",
            " 230 132  31 221 183  29   8  86  64 118 156  19 206  84  51 128 122 139\n",
            "  12   6   1  58  30 214 178 251 194 115 207  38 154 204 172  27 253  23\n",
            "  44 187 109 245 176   5   2]\n",
            "74     70939\n",
            "42     70903\n",
            "7      66102\n",
            "41     63398\n",
            "129    57385\n",
            "       ...  \n",
            "84         6\n",
            "44         6\n",
            "204        5\n",
            "5          5\n",
            "2          1\n",
            "Name: DOLocationID, Length: 259, dtype: int64\n",
            "************************************************\n",
            "passenger_count : \n",
            "[1 5 2 3 6 4 0 7 8 9]\n",
            "1    1762521\n",
            "2     166616\n",
            "5      75882\n",
            "3      41200\n",
            "6      36174\n",
            "4      10638\n",
            "0        379\n",
            "7         56\n",
            "8         40\n",
            "9         18\n",
            "Name: passenger_count, dtype: int64\n",
            "************************************************\n",
            "trip_distance : \n",
            "[ 1.71  1.44  3.45 ... 47.5  31.11 36.99]\n",
            "0.90     26950\n",
            "1.00     26637\n",
            "0.80     26205\n",
            "0.00     25660\n",
            "1.10     24756\n",
            "         ...  \n",
            "30.11        1\n",
            "46.50        1\n",
            "25.41        1\n",
            "23.61        1\n",
            "22.61        1\n",
            "Name: trip_distance, Length: 3199, dtype: int64\n",
            "************************************************\n",
            "fare_amount : \n",
            "[ 9.0000e+00  6.5000e+00  1.2000e+01  1.0500e+01  1.1500e+01  1.5000e+01\n",
            "  1.9000e+01  1.1000e+01  5.0000e+00  1.3500e+01  8.5000e+00  2.1000e+01\n",
            "  3.0000e+01  7.0000e+00  1.8500e+01  1.0000e+01  3.0000e+00  1.7000e+01\n",
            "  2.1500e+01  3.4000e+01  8.0000e+00  7.5000e+00  1.6000e+01  1.3000e+01\n",
            "  4.5000e+00  5.5000e+00  2.4500e+01  3.1500e+01  1.2500e+01  2.5000e+00\n",
            "  4.0000e+00  2.3000e+01  3.1000e+01  2.2000e+01  3.5000e+00  2.0500e+01\n",
            "  2.5500e+01  1.5500e+01  2.3500e+01  9.5000e+00  1.8000e+01  3.9000e+01\n",
            "  2.9000e+01  2.8500e+01  2.4000e+01  2.7500e+01  2.2500e+01  4.2500e+01\n",
            "  6.0000e+00  1.4000e+01  5.0000e+01  1.4500e+01  2.0000e+01  1.7500e+01\n",
            "  3.3000e+01  1.6500e+01  3.2500e+01  1.9500e+01  5.0500e+01  2.7000e+01\n",
            "  3.3500e+01  2.9500e+01  3.4500e+01  2.8000e+01  3.9500e+01 -3.5000e+00\n",
            "  2.6000e+01  4.0500e+01  3.0500e+01  4.1500e+01  3.6500e+01  3.7500e+01\n",
            "  4.5000e+01  6.0000e+01  3.5000e+01  3.2000e+01  5.2500e+01  2.5000e+01\n",
            "  2.6500e+01  4.7000e+01  4.6500e+01  5.2000e+01  3.6000e+01  3.5500e+01\n",
            " -5.0000e+00  4.6000e+01  4.0000e+01  4.8000e+01  4.3000e+01  3.8500e+01\n",
            "  3.7000e+01  6.2500e+01  4.4000e+01 -3.0000e+00  4.8500e+01  4.9000e+01\n",
            "  4.2000e+01  4.3500e+01  6.0500e+01  1.2290e+01  5.1500e+01  5.3000e+01\n",
            "  0.0000e+00  5.5000e+01  3.8000e+01  5.4500e+01  5.1000e+01  8.0000e+01\n",
            "  9.0000e+01  1.4200e+01  4.1000e+01  5.5550e+01 -4.0000e+00  4.9500e+01\n",
            "  4.4500e+01  5.6500e+01  1.0500e+02  7.0500e+01  5.7500e+01 -2.5000e+00\n",
            "  4.5500e+01  7.2500e+01  6.5000e+01  7.5000e+01  7.0000e+01  4.7500e+01\n",
            "  5.8500e+01 -5.2000e+01  5.7000e+01  5.8000e+00  1.2090e+01  1.1950e+02\n",
            "  1.7300e+01  8.9500e+01  9.6000e+01  1.4560e+01  6.8500e+01  5.9000e+01\n",
            "  6.1500e+01  8.8080e+01  6.3000e+01  6.8000e+01  5.4000e+01  1.4800e+01\n",
            "  2.2300e+01  1.2000e+02  6.1000e+01  7.3000e+01 -4.5000e+00  5.9500e+01\n",
            "  5.5500e+01  6.5500e+01  7.8500e+01  7.1000e+01  5.6000e+01  2.2500e+00\n",
            "  7.5500e+01  2.3800e+01  9.8500e+01  5.3500e+01  4.8000e-01  8.0500e+01\n",
            "  3.1570e+01  9.4500e+01  1.2800e+01  1.1200e+01 -5.5000e+00  2.0000e+02\n",
            " -6.0000e+01  6.7000e+01  1.9260e+01 -7.0000e+00  1.5550e+01 -2.3800e+01\n",
            "  1.1300e+01  6.4500e+01  8.4000e+01  7.3500e+01  9.4000e+01 -6.5000e+00\n",
            " -2.0000e+01  6.8000e+00  1.0600e+02 -1.5000e+01  4.5800e+01  1.3300e+02\n",
            "  7.4500e+01  6.5740e+01  1.4200e+02  4.4320e+01  1.8300e+01  1.6600e+01\n",
            " -1.0000e+01  8.2500e+01  2.1200e+02  8.4500e+01  1.6000e-01  1.9330e+01\n",
            "  1.3150e+02  8.2000e+01  6.2000e+01  6.7500e+01  1.4080e+02  1.0000e+02\n",
            "  1.6850e+02 -6.0000e+00  1.0000e+00  1.1000e+00  8.8000e+01  1.6800e+01\n",
            "  7.7000e+01  7.4000e+01  9.5000e+01  7.2000e+01  1.0300e+02  6.4000e+01\n",
            "  7.7500e+01  6.9000e+01  6.9500e+01  8.8000e+00  7.1500e+01  7.8000e+01\n",
            "  5.8000e+01  6.6500e+01  1.1800e+01  1.3800e+01  1.2300e+02  1.9990e+01\n",
            "  1.5800e+01  8.0800e+01  8.1300e+01  3.0800e+01  2.0300e+01  1.5000e-01\n",
            "  2.5550e+01  1.2700e+01  6.6000e+01  4.5540e+01  6.5800e+00  7.0900e+00\n",
            "  1.6950e+02  2.6300e+01  4.0750e+01  9.2000e+00  8.1000e+01  1.1100e+02\n",
            "  1.0150e+01  4.1980e+01  1.9200e+01  9.0500e+01  8.6500e+01  9.8000e+00\n",
            "  1.4000e+02  8.6000e+01 -1.4000e+02  1.0800e+01  1.3600e+02  7.6500e+01\n",
            " -1.9000e+01  1.3000e+02  4.8990e+01  1.5000e+02  2.4600e+01  4.2380e+01\n",
            "  3.4800e+01  1.1550e+02  1.5400e+01  2.4800e+01  8.3990e+01  2.0350e+02\n",
            "  1.9650e+02  1.5800e+02  4.5400e+00  6.3500e+01 -2.4000e+01  2.0000e+00\n",
            "  7.8000e+00  8.2300e+01 -8.0000e+00  3.5800e+01  5.0500e+00  9.5500e+01\n",
            "  9.6400e+00  1.4740e+01  2.1370e+01  1.6270e+01  1.0000e-02  7.6000e+01\n",
            "  8.5000e+01  1.2000e-01  9.3500e+01  7.2000e+00  1.1000e+02  1.4100e+02\n",
            "  8.7000e+01  2.0000e-02  9.9500e+01  1.0050e+02  8.3000e+01  2.1000e+00\n",
            "  1.2500e+02  3.0050e+02  1.1350e+02  1.0250e+02  1.3330e+01  1.3000e+00\n",
            "  8.3500e+01  8.7500e+01 -3.5000e+01 -1.5000e+02  9.9000e+00  1.9350e+02\n",
            "  2.8000e+02  2.9200e+01 -4.0000e+01  9.3000e+00  3.5010e+01  3.5050e+01\n",
            "  2.2800e+01  2.4950e+02  7.5040e+01  1.7800e+01  1.3450e+02  8.0000e-01\n",
            "  1.1450e+02  1.5500e+02  8.0100e+00  8.8500e+01  9.1500e+01  5.3000e+00\n",
            "  8.0000e-02  1.7700e+01  7.6000e+00  1.0300e+01  1.2300e+01  7.9000e+01\n",
            " -7.5000e+00  8.3000e+00  1.0000e-01  2.3300e+01  5.5500e+00  7.3000e+00\n",
            "  1.1400e+02  4.5100e+02  1.2000e+00  6.3000e+00 -4.5000e+01  1.2400e+02\n",
            "  1.0050e+01  1.8900e+01  1.4700e+02  8.1500e+01  1.0650e+02  5.3300e+01\n",
            "  6.0800e+01  2.5600e+02  1.8800e+01 -1.4200e+02 -1.4100e+02  8.5500e+01\n",
            "  2.4900e+01  1.5300e+01  5.8340e+01  8.7200e+00  2.5000e+02  2.1200e+01\n",
            "  1.4800e+02  3.1610e+01  1.2050e+02  4.8000e+00  2.4300e+01  9.9900e+00\n",
            " -1.2000e+01  3.1600e+02 -9.0000e+00  3.2800e+01 -6.6000e+01 -2.5000e+01\n",
            "  1.9300e+02  3.4200e+01  1.3860e+01  3.2960e+01 -5.0000e+01  3.8910e+01\n",
            "  7.0000e-02  1.1700e+02  6.5300e+01  6.5800e+01  2.1500e+02  2.9800e+01\n",
            " -8.2300e+01  1.0870e+01  1.8700e+01  2.4650e+02  1.2870e+01  2.9600e+02\n",
            "  1.9000e+00  2.6950e+01  1.0150e+02  9.6500e+01  1.2220e+01  6.6300e+01\n",
            "  4.5000e-01 -4.5000e-01  3.3660e+01  9.3000e+01  2.1800e+01  1.3000e-01\n",
            "  1.1850e+02  1.1300e+02  1.3850e+02  7.9500e+01  3.7000e+00  1.4450e+02\n",
            "  9.7500e+01  5.3650e+02  1.5150e+02  3.5800e+02  1.7250e+01 -3.0000e+01\n",
            "  4.0800e+01  3.3800e+01  6.6800e+01  7.2800e+01 -2.2000e+01 -2.7000e+01\n",
            "  1.4500e+02  1.5400e+02  3.1000e+00  1.4300e+01  1.4860e+01  1.6000e+02\n",
            "  1.7050e+02  3.4460e+01  1.1500e+02  1.6000e+00  1.3050e+02  7.7000e+00\n",
            "  1.3400e+02  9.1000e+01  4.1700e+02  1.0550e+02 -7.0000e+01  2.9510e+01\n",
            "  9.2500e+01  1.6200e+02  1.2750e+02  1.6600e+02 -2.3000e+01 -1.1000e+01\n",
            "  1.3200e+01  3.2650e+02  1.3750e+02  1.6650e+02  1.0850e+02  1.2300e+00\n",
            "  9.2000e+01  8.0900e+00 -6.5000e+01  1.2200e+01 -8.0000e+01  5.2960e+01\n",
            "  1.9150e+02  3.0950e+02  6.0000e-02  1.3900e+02  1.8000e+00  1.5000e+00\n",
            "  2.4200e+01  1.4950e+01  1.1100e+00  1.2200e+02  5.0000e-01  7.2300e+01\n",
            " -9.5000e+01  1.9000e-01  1.5100e+01  1.0750e+02  9.0000e-02  5.8750e+01\n",
            " -1.3500e+01  1.2450e+02  2.3200e+02  3.7800e+01  9.7000e+01  2.2450e+02\n",
            "  1.0100e+02  1.7900e+02  4.3650e+02  9.5800e+01  1.5550e+02  2.9040e+01\n",
            "  1.1800e+02  1.0090e+01  1.3350e+02 -1.2500e+01  1.0700e+02  8.9000e+01\n",
            "  2.2200e+01  7.9000e+00  2.0800e+01  6.7000e+00 -1.7300e+01  4.2800e+02\n",
            "  1.3300e+01  1.6300e+01  4.9900e+02 -2.0000e-02  2.2050e+02  4.7770e+01\n",
            "  1.3200e+02  2.8600e+01 -1.2400e+02  7.5800e+01  2.1000e+02  2.4250e+02\n",
            "  1.4550e+02  9.8000e+01  3.9840e+01  1.5510e+01  3.6660e+01  2.2700e+01\n",
            "  8.8800e+00  1.2345e+02  1.2340e+01  5.0000e-02  9.9000e+01  1.1250e+02\n",
            " -2.0500e+01  6.4370e+01 -5.5000e+01  1.3900e+01  3.0000e-02  1.2900e+02\n",
            "  1.1650e+02  8.2000e+00  4.4360e+01  1.2550e+02 -5.4000e+01  6.0000e-01\n",
            " -6.2000e+01  3.3540e+01 -3.3540e+01  2.2550e+02  1.4250e+02  1.4000e-01\n",
            "  1.7600e+01  1.7000e+00  1.9800e+01  7.0000e-01  3.0000e-01  4.4400e+01\n",
            "  2.7700e+01  1.1090e+01  2.2180e+01  5.7770e+01  3.3450e+01  1.1900e+02\n",
            "  3.2310e+01 -3.2310e+01  1.8880e+01  6.8300e+01  2.5100e+01  5.2000e-01\n",
            "  2.2000e+00  1.5950e+02  7.3800e+01 -5.3500e+01  5.8010e+01  1.5350e+02\n",
            "  4.9900e+00  1.3250e+01  2.0100e+02  2.0000e-01  1.0900e+02  1.2800e+02\n",
            "  6.7800e+01  2.6800e+01  7.7700e+00  3.0300e+01  1.3700e+02  1.7300e+00\n",
            "  1.1200e+02 -1.5000e-01  6.6000e+00  5.7800e+01 -5.4500e+01  9.9900e+01\n",
            "  1.3500e+02  3.0000e+02  2.2220e+01  7.5550e+01  1.0100e+01  2.4350e+02\n",
            "  1.5900e+02  5.9630e+01  6.9800e+01  1.3800e+02  5.8040e+01  5.9040e+01\n",
            "  6.6340e+01  1.4850e+02  5.1300e+01  1.5100e+02  1.8000e+02 -1.8000e+02\n",
            "  2.4300e+02  1.0200e+02  5.3850e+01  3.2850e+01  1.2100e+01  6.5550e+01\n",
            "  2.2650e+02 -2.4500e+01  4.4000e+00  1.1110e+01  6.8190e+01  3.4720e+01\n",
            "  2.2900e+02  2.4000e+02  4.6350e+02  2.3930e+01  2.5000e-01 -6.1500e+01\n",
            "  1.1150e+02  4.9790e+01  3.3200e+02 -6.7000e+01  4.1400e+00  1.2900e+01\n",
            "  1.3590e+01  6.7040e+01 -8.5000e+00  4.8300e+01  2.5150e+02  8.0500e+00\n",
            "  4.9440e+01  1.0350e+02  3.0008e+02  8.0090e+01  2.7900e+01  2.0900e+00\n",
            "  2.8300e+01  1.7000e-01  6.5090e+01  4.1300e+01  4.2410e+01 -5.2500e+01\n",
            "  1.2550e+01  1.0400e+02  1.9700e+01  2.2950e+02  5.7300e+01  4.0000e+02\n",
            "  3.1300e+01  1.7950e+02  1.5700e+02 -9.8000e+00  4.3160e+01  9.7000e+00\n",
            " -5.7000e+01 -6.7800e+01 -6.3500e+01 -5.7500e+01  8.8050e+01  2.0800e+02\n",
            "  6.2840e+01  2.9300e+01 -2.9300e+01  2.8040e+01  8.5250e+01 -8.5250e+01\n",
            "  1.6550e+02  1.8720e+01  2.1280e+01  9.6000e+00  1.6500e+02  2.4000e-01\n",
            "  1.7300e+02  1.0950e+01  4.1150e+01  3.9640e+01  1.3100e+02  4.0400e+01\n",
            "  1.1555e+02  1.1050e+02  1.7850e+02 -8.8000e+00  3.3300e+01 -9.0000e+01\n",
            "  1.6750e+02 -1.0000e+02  2.8340e+01  1.9000e+02  8.4970e+01  1.5600e+01\n",
            "  4.9060e+01  1.0810e+01  1.4950e+02  1.4000e+00  3.5450e+01  3.5000e-01\n",
            "  1.8000e-01  6.2050e+02  8.3400e+00  1.6200e+01  2.3000e+02  1.5200e+01\n",
            "  4.6250e+01  5.4800e+01  5.2800e+01  3.5000e+02  3.1200e+01  5.4000e+00\n",
            "  5.3800e+01 -5.3800e+01  2.8640e+01  1.5300e+02 -7.0500e+01  1.9550e+02\n",
            "  9.9000e-01  1.2650e+02  5.0800e+01  8.0300e+00  5.8800e+01  5.6800e+01\n",
            "  1.4050e+02  2.2200e+02  1.5111e+02  7.0600e+01  5.8130e+01 -9.5000e+00\n",
            "  1.6900e+02  1.2950e+02  2.4100e+01  3.9340e+01 -2.0000e+00  4.3300e+01\n",
            "  4.6800e+01  5.5800e+01  1.0450e+02  1.7800e+02 -7.9000e+00  4.4450e+02\n",
            "  4.3000e+00  1.1790e+01  2.7800e+01  1.7100e+02  2.0950e+02  1.3360e+01\n",
            "  8.3800e+01  2.1808e+02 -2.1808e+02 -5.0000e-01  4.3800e+01  6.8700e+01\n",
            "  6.0080e+01 -6.0080e+01  3.4330e+01 -3.9000e+01  1.4700e+01  1.0074e+02\n",
            "  3.5550e+01  6.8900e+01  2.4400e+01  1.2600e+02  1.2880e+01  3.3250e+01\n",
            " -3.2000e+01  5.2110e+01  6.3800e+01 -5.8000e+01  1.2850e+02  5.2290e+01\n",
            "  1.7008e+02 -1.7008e+02 -2.1800e+01  7.7750e+01 -1.6000e+01  6.4800e+01\n",
            " -5.4800e+01  2.5010e+01  2.0050e+01 -2.0050e+01  5.9990e+01  2.6700e+02\n",
            "  4.4460e+01  2.5800e+01  1.0950e+02 -5.8500e+01  5.1800e+01 -6.3800e+01\n",
            " -5.8800e+01  8.4250e+01  2.2200e+00 -2.2200e+00  4.2220e+01  2.9470e+01\n",
            "  1.2150e+02  1.9700e+02  1.5880e+01  6.6260e+01  1.9050e+02  4.4300e+01\n",
            "  4.0010e+01  3.4160e+01  1.2090e+03  3.6000e+02  6.2020e+01  1.2250e+02\n",
            "  6.4000e+00  2.0500e+02  2.5500e+00  4.0050e+01  1.0010e+01  6.1790e+01\n",
            "  5.7250e+01  2.3350e+02  2.7300e+01  4.5550e+01  1.5870e+01  2.8450e+02\n",
            "  1.0980e+01  1.0023e+02  1.5450e+02  8.0050e+01  8.4000e+00  5.5000e-01\n",
            " -5.9000e+01 -6.8500e+01  1.0850e+01  3.8500e+02  1.3700e+01  4.1650e+02\n",
            "  2.3330e+01  6.6660e+01  5.2000e+02  1.5900e+01 -1.4000e+01 -2.8000e+01\n",
            " -5.5800e+01 -6.7500e+01  6.2110e+01  2.3050e+02  5.9750e+02  1.8050e+02\n",
            "  1.9900e+02  1.5950e+01  5.7460e+01  2.0550e+02  1.7350e+02  6.2870e+01\n",
            "  1.7500e+02 -5.9500e+01  6.8800e+01  8.9200e+00 -2.0000e+02  1.1100e+01\n",
            " -1.0000e+00  1.0008e+02  8.7500e+00  5.4910e+01  2.0020e+01  1.8500e+02\n",
            " -1.8500e+02  2.1850e+02  1.1600e+02  2.1900e+01  1.0890e+01 -2.1000e+01\n",
            "  1.9920e+01  4.1800e+01  2.8700e+01  8.9250e+01  2.0130e+02  7.0540e+01\n",
            "  6.3970e+01  7.0850e+01  7.2250e+01  4.5940e+01  8.0480e+01  5.0940e+01\n",
            "  7.5950e+01  1.4600e+02  6.5880e+01  7.9890e+01  2.1300e+01  1.2750e+01\n",
            "  6.4460e+01  1.3950e+02  1.1700e+01  4.6230e+01  1.1750e+02  1.2700e+02\n",
            "  1.4440e+01  1.0494e+02  2.2850e+02  5.6460e+01  3.5950e+02  3.7000e+02\n",
            "  2.3000e+00  6.2010e+01  4.5080e+01  1.8600e+02  4.5450e+01  1.5600e+02\n",
            "  3.5350e+01  1.6350e+01  2.0880e+01  2.9000e+02  6.5270e+01  1.5098e+02\n",
            "  1.2100e+02  4.4800e+02  5.2000e+00 -5.2000e+00  4.0090e+01  1.5200e+02\n",
            "  2.4500e+02  1.7090e+01  7.2600e+00 -1.8000e+01  2.1650e+02 -1.0000e-02\n",
            "  6.2800e+01  4.2350e+01  2.2400e+01  1.7594e+02  4.7550e+01  1.6980e+01\n",
            "  1.8598e+02  1.0959e+02  6.9700e+01 -5.7800e+01 -6.3000e+01 -5.6500e+01\n",
            " -6.4000e+01  2.0250e+02  1.2389e+02  5.9800e+01 -5.9800e+01 -5.2800e+01\n",
            "  3.6300e+01  5.1000e+00  6.0600e+01  1.9884e+02  1.2594e+02  1.0049e+02\n",
            "  1.5990e+01  1.5250e+02  1.6660e+01  4.1500e+00  2.3140e+01  7.4800e+01\n",
            "  1.9894e+02  1.2837e+02  1.5700e+01  2.5250e+01  1.6700e+01  2.3100e+02\n",
            "  2.6800e+02  2.5840e+01  7.8800e+00 -7.8800e+00  2.8800e+01  1.9898e+02\n",
            "  1.3898e+02  1.4650e+02  1.4390e+01  1.4460e+01  1.8979e+02  1.5094e+02\n",
            "  1.4990e+01  4.6300e+01 -6.9800e+01 -6.2800e+01  7.8900e+00 -6.8800e+01\n",
            "  2.0700e+02  1.8998e+02  1.5984e+02]\n",
            " 6.00      119486\n",
            " 5.50      118038\n",
            " 5.00      111521\n",
            " 6.50      111425\n",
            " 7.00      107161\n",
            "            ...  \n",
            " 5.05           1\n",
            " 185.98         1\n",
            " 12.88          1\n",
            "-64.00          1\n",
            " 126.50         1\n",
            "Name: fare_amount, Length: 981, dtype: int64\n",
            "************************************************\n",
            "extra : \n",
            "[ 0.    0.5  -0.5   1.   -1.    4.5  -4.5   0.99  0.2   4.2 ]\n",
            " 0.00    979639\n",
            " 0.50    725850\n",
            " 1.00    384840\n",
            "-0.50      1811\n",
            "-1.00       698\n",
            " 4.50       642\n",
            " 0.20        22\n",
            "-4.50        20\n",
            " 0.99         1\n",
            " 4.20         1\n",
            "Name: extra, dtype: int64\n",
            "************************************************\n",
            "mta_tax : \n",
            "[ 0.5   0.   -0.5   0.6   0.81]\n",
            " 0.50    2044624\n",
            " 0.00      44518\n",
            "-0.50       4374\n",
            " 0.60          7\n",
            " 0.81          1\n",
            "Name: mta_tax, dtype: int64\n",
            "************************************************\n",
            "tip_amount : \n",
            "[  0.     2.66   1.96 ... 145.     8.28  12.01]\n",
            "0.00     1211961\n",
            "1.00       70661\n",
            "2.00       49965\n",
            "3.00       19051\n",
            "1.46       18411\n",
            "          ...   \n",
            "55.40          1\n",
            "20.35          1\n",
            "26.72          1\n",
            "20.90          1\n",
            "12.14          1\n",
            "Name: tip_amount, Length: 1950, dtype: int64\n",
            "************************************************\n",
            "tolls_amount : \n",
            "[ 0.00000e+00  5.54000e+00  2.54000e+00  1.05000e+01  2.08000e+00\n",
            "  8.00000e+00  1.10800e+01  2.10000e+01  1.66200e+01  2.15800e+01\n",
            "  1.53000e+01  1.50000e+00  1.50800e+01  1.60400e+01  1.25000e+01\n",
            "  2.35800e+01  1.60000e+01  3.00000e+00  2.77000e+01  1.75000e+01\n",
            "  8.08000e+00  3.31200e+01  2.00000e+01  1.80400e+01  5.52000e+00\n",
            "  1.80000e+01  4.00000e+00  3.20000e+01  2.78000e+01  1.50000e+01\n",
            "  2.05000e+01  6.50000e+01  5.00000e+00  2.00000e+00  1.30400e+01\n",
            "  6.34000e+00  2.50000e+01  2.75800e+01  8.54000e+00  1.78000e+01\n",
            "  4.04000e+01  1.00000e-02  1.91000e+01  5.50000e+00  1.40000e+01\n",
            "  2.30000e+01  7.77000e+00  2.19000e+01  4.08000e+00  1.97000e+01\n",
            "  1.11100e+01  4.32000e+00  6.00000e+00  1.51500e+01  5.84000e+00\n",
            "  1.17000e+01  1.50400e+01  1.23000e+00  5.08000e+00  1.20000e-01\n",
            "  1.20000e+01  4.16000e+00  6.00000e+01  4.88000e+00  7.62000e+00\n",
            "  5.24000e+00  1.72000e+01  2.44000e+00  7.00000e+00  1.00000e+00\n",
            "  1.55000e+01  3.25000e+01  4.20000e+00  5.40000e+00  3.26600e+01\n",
            "  5.09000e+00  1.09400e+01  2.55000e+01  1.05400e+01  1.65000e+01\n",
            "  5.55000e+00  4.31600e+01  2.65400e+01  1.35000e+01  3.05000e+01\n",
            "  5.63000e+00  5.45000e+00  4.50000e+00  9.55400e+01  5.55500e+01\n",
            "  3.89500e+01  2.75000e+01 -1.10800e+01  3.00000e+01  1.00000e+01\n",
            "  1.67500e+01  5.00000e+01  5.50000e+01  2.21600e+01  2.25000e+00\n",
            "  1.75000e+00  2.55800e+01  5.62000e+01  5.00000e-02  4.96000e+00\n",
            "  1.29500e+01  1.77000e+01  7.80000e+00  5.00000e-01  1.10000e+01\n",
            "  2.65000e+01  1.95000e+01  1.78500e+01  5.54090e+02  1.80800e+01\n",
            "  1.85000e+01  3.20800e+01  6.54000e+00  1.35400e+01  2.05400e+01\n",
            "  3.48000e+01  1.15000e+01  1.30000e+01  6.55000e+01  1.05000e+02\n",
            "  1.50500e+01  1.87000e+01  9.00000e-02  2.50000e+00  1.59108e+03\n",
            "  2.25000e+01  7.95540e+02  6.50000e+00  8.00000e+01  6.05550e+02\n",
            "  2.85400e+01  5.59000e+00  4.70000e+00  1.10000e+00  7.54000e+00\n",
            "  4.00000e+01]\n",
            "0.00     2063058\n",
            "5.54       26483\n",
            "2.54        1882\n",
            "10.50        512\n",
            "11.08        458\n",
            "          ...   \n",
            "34.80          1\n",
            "19.10          1\n",
            "6.50           1\n",
            "95.54          1\n",
            "55.55          1\n",
            "Name: tolls_amount, Length: 141, dtype: int64\n",
            "************************************************\n",
            "ehail_fee : \n",
            "[nan]\n",
            "Series([], Name: ehail_fee, dtype: int64)\n",
            "************************************************\n",
            "improvement_surcharge : \n",
            "[ 0.3  0.  -0.3]\n",
            " 0.3    2046528\n",
            " 0.0      42550\n",
            "-0.3       4446\n",
            "Name: improvement_surcharge, dtype: int64\n",
            "************************************************\n",
            "total_amount : \n",
            "[  9.8    7.8   15.96 ... 159.84  74.52  82.03]\n",
            "6.80      78328\n",
            "7.30      76376\n",
            "7.80      75671\n",
            "6.30      72007\n",
            "8.30      68253\n",
            "          ...  \n",
            "280.00        1\n",
            "30.49         1\n",
            "81.75         1\n",
            "48.68         1\n",
            "127.20        1\n",
            "Name: total_amount, Length: 6492, dtype: int64\n",
            "************************************************\n",
            "payment_type : \n",
            "[2 1 4 3 5]\n",
            "2    1039709\n",
            "1    1038009\n",
            "3      10466\n",
            "4       5249\n",
            "5         91\n",
            "Name: payment_type, dtype: int64\n",
            "************************************************\n",
            "trip_type : \n",
            "[1. 2.]\n",
            "1.0    2052107\n",
            "2.0      41417\n",
            "Name: trip_type, dtype: int64\n",
            "************************************************\n",
            "pickup_day : \n",
            "['Sunday' 'Monday' 'Tuesday' 'Wednesday' 'Thursday' 'Friday' 'Saturday']\n",
            "Saturday     344500\n",
            "Sunday       331962\n",
            "Friday       327741\n",
            "Tuesday      289574\n",
            "Monday       272794\n",
            "Thursday     264009\n",
            "Wednesday    262944\n",
            "Name: pickup_day, dtype: int64\n",
            "************************************************\n",
            "dropoff_day : \n",
            "['Sunday' 'Monday' 'Tuesday' 'Wednesday' 'Thursday' 'Friday' 'Saturday']\n",
            "Saturday     343764\n",
            "Sunday       334416\n",
            "Friday       325387\n",
            "Tuesday      289207\n",
            "Monday       274094\n",
            "Thursday     263613\n",
            "Wednesday    263043\n",
            "Name: dropoff_day, dtype: int64\n",
            "************************************************\n",
            "pickup_day_no : \n",
            "[6 0 1 2 3 4 5]\n",
            "5    344500\n",
            "6    331962\n",
            "4    327741\n",
            "1    289574\n",
            "0    272794\n",
            "3    264009\n",
            "2    262944\n",
            "Name: pickup_day_no, dtype: int64\n",
            "************************************************\n",
            "dropoff_day_no : \n",
            "[6 0 1 2 3 4 5]\n",
            "5    343764\n",
            "6    334416\n",
            "4    325387\n",
            "1    289207\n",
            "0    274094\n",
            "3    263613\n",
            "2    263043\n",
            "Name: dropoff_day_no, dtype: int64\n",
            "************************************************\n",
            "pickup_hour : \n",
            "[ 0  1  2  3  4  5  6  7  8  9 10 11 12 13 14 15 16 17 18 19 20 21 22 23]\n",
            "18    151925\n",
            "19    144867\n",
            "17    135079\n",
            "20    128797\n",
            "16    121634\n",
            "21    116912\n",
            "15    108109\n",
            "22    105885\n",
            "14     97054\n",
            "23     95571\n",
            "9      88783\n",
            "13     86917\n",
            "8      86825\n",
            "11     83235\n",
            "10     82967\n",
            "0      82209\n",
            "12     81762\n",
            "1      64502\n",
            "7      58288\n",
            "2      49596\n",
            "3      40233\n",
            "4      33208\n",
            "6      27828\n",
            "5      21338\n",
            "Name: pickup_hour, dtype: int64\n",
            "************************************************\n",
            "dropoff_hour : \n",
            "[ 0  1 23  2  3  4  5  6  7 13  8  9 10 11 12 15 16 14 17 18 19 20 21 22]\n",
            "18    151985\n",
            "19    149808\n",
            "20    132497\n",
            "17    131240\n",
            "16    118979\n",
            "21    118272\n",
            "22    107671\n",
            "15    104500\n",
            "23     97642\n",
            "14     93657\n",
            "9      90446\n",
            "0      87715\n",
            "13     85132\n",
            "10     84913\n",
            "11     82964\n",
            "8      82114\n",
            "12     81974\n",
            "1      67483\n",
            "2      51705\n",
            "7      49423\n",
            "3      40855\n",
            "4      35583\n",
            "6      24725\n",
            "5      22241\n",
            "Name: dropoff_hour, dtype: int64\n",
            "************************************************\n",
            "pickup_month : \n",
            "[1 2]\n",
            "1    1070261\n",
            "2    1023263\n",
            "Name: pickup_month, dtype: int64\n",
            "************************************************\n",
            "dropoff_month : \n",
            "[1 2 3]\n",
            "1    1069916\n",
            "2    1023232\n",
            "3        376\n",
            "Name: dropoff_month, dtype: int64\n",
            "************************************************\n",
            "trip_duration : \n",
            "[   9.83333333    5.43333333    8.88333333 ... 1390.48333333 1212.63333333\n",
            " 1379.38333333]\n",
            "5.316667       3241\n",
            "6.666667       3173\n",
            "6.333333       3163\n",
            "6.500000       3136\n",
            "5.483333       3132\n",
            "               ... \n",
            "688.766667        1\n",
            "423.716667        1\n",
            "1079.516667       1\n",
            "112.166667        1\n",
            "333.450000        1\n",
            "Name: trip_duration, Length: 13141, dtype: int64\n",
            "************************************************\n",
            "speed_mph : \n",
            "[10.43389831 15.90184049 23.30206379 ... 29.12977099 22.79442803\n",
            " 12.32173417]\n",
            "0.000000     24508\n",
            "12.000000     3774\n",
            "9.000000      3390\n",
            "10.285714     2055\n",
            "18.000000     1715\n",
            "             ...  \n",
            "16.584644        1\n",
            "4.639361         1\n",
            "20.951613        1\n",
            "14.776615        1\n",
            "16.820856        1\n",
            "Name: speed_mph, Length: 426026, dtype: int64\n",
            "************************************************\n"
          ]
        }
      ]
    },
    {
      "cell_type": "markdown",
      "metadata": {
        "id": "ptsPdsDsTxyl"
      },
      "source": [
        "df Cleaning\n",
        "\n",
        "ehail_fee is having higher number of null values, needs to be dropped.\n",
        "<!-- \n",
        "store_and_fwd_flag is having 99% of value as \"N\" needs to be dropped. -->\n",
        "\n"
      ]
    },
    {
      "cell_type": "code",
      "metadata": {
        "colab": {
          "base_uri": "https://localhost:8080/"
        },
        "id": "gSZ1ndZBV83d",
        "outputId": "8bbebb30-54e8-4e9d-c0bc-af623e59c2ec"
      },
      "source": [
        "df.columns"
      ],
      "execution_count": 20,
      "outputs": [
        {
          "output_type": "execute_result",
          "data": {
            "text/plain": [
              "Index(['VendorID', 'lpep_pickup_datetime', 'lpep_dropoff_datetime',\n",
              "       'store_and_fwd_flag', 'RatecodeID', 'PULocationID', 'DOLocationID',\n",
              "       'passenger_count', 'trip_distance', 'fare_amount', 'extra', 'mta_tax',\n",
              "       'tip_amount', 'tolls_amount', 'ehail_fee', 'improvement_surcharge',\n",
              "       'total_amount', 'payment_type', 'trip_type', 'pickup_day',\n",
              "       'dropoff_day', 'pickup_day_no', 'dropoff_day_no', 'pickup_hour',\n",
              "       'dropoff_hour', 'pickup_month', 'dropoff_month', 'trip_duration',\n",
              "       'speed_mph'],\n",
              "      dtype='object')"
            ]
          },
          "metadata": {},
          "execution_count": 20
        }
      ]
    },
    {
      "cell_type": "markdown",
      "metadata": {
        "id": "BZIu5p41oyFQ"
      },
      "source": [
        "\"payment_type\",\"total_amount\",\"trip_duration\",\"speed_mph\",\"location_distance\",\"mta_tax\",\"extra\",\"pickup_hour\""
      ]
    },
    {
      "cell_type": "code",
      "metadata": {
        "id": "HzsMl5stVwVW"
      },
      "source": [
        "# Dropping the 'ehail_fee' as it is having all the values as null or having values that are having it's derived form\n",
        "df = df.drop([\"VendorID\"],axis =1)\n",
        "df = df.drop([\"lpep_pickup_datetime\"],axis =1)\n",
        "df = df.drop([\"lpep_dropoff_datetime\"],axis =1)\n",
        "df = df.drop([\"PULocationID\"],axis =1)\n",
        "df = df.drop([\"DOLocationID\"],axis =1)\n",
        "df = df.drop([\"store_and_fwd_flag\"],axis =1)\n",
        "df = df.drop([\"RatecodeID\"],axis =1)\n",
        "df = df.drop([\"passenger_count\"],axis =1)\n",
        "df = df.drop([\"fare_amount\"],axis =1)\n",
        "df = df.drop([\"extra\"],axis =1)\n",
        "df = df.drop([\"tolls_amount\"],axis =1)\n",
        "df = df.drop([\"ehail_fee\"],axis =1)\n",
        "df = df.drop([\"improvement_surcharge\"],axis =1)\n",
        "df = df.drop([\"trip_type\"],axis =1)\n",
        "df = df.drop([\"pickup_day\"],axis =1)\n",
        "df = df.drop([\"dropoff_day\"],axis =1)\n",
        "df = df.drop([\"pickup_day_no\"],axis =1)\n",
        "df = df.drop([\"dropoff_day_no\"],axis =1)\n",
        "df = df.drop([\"dropoff_hour\"],axis =1)\n",
        "df = df.drop([\"dropoff_month\"],axis =1)"
      ],
      "execution_count": 21,
      "outputs": []
    },
    {
      "cell_type": "code",
      "metadata": {
        "colab": {
          "base_uri": "https://localhost:8080/"
        },
        "id": "5tlBEDeHvOt5",
        "outputId": "4eab2c40-95d3-42f7-ca0e-c81a12253a6d"
      },
      "source": [
        "df.columns"
      ],
      "execution_count": 22,
      "outputs": [
        {
          "output_type": "execute_result",
          "data": {
            "text/plain": [
              "Index(['trip_distance', 'mta_tax', 'tip_amount', 'total_amount',\n",
              "       'payment_type', 'pickup_hour', 'pickup_month', 'trip_duration',\n",
              "       'speed_mph'],\n",
              "      dtype='object')"
            ]
          },
          "metadata": {},
          "execution_count": 22
        }
      ]
    },
    {
      "cell_type": "code",
      "metadata": {
        "colab": {
          "base_uri": "https://localhost:8080/"
        },
        "id": "Pw_O2qKx6aeW",
        "outputId": "3d965751-1d86-45a6-b220-7419595cce09"
      },
      "source": [
        "df[\"total_amount\"].median()"
      ],
      "execution_count": 23,
      "outputs": [
        {
          "output_type": "execute_result",
          "data": {
            "text/plain": [
              "10.8"
            ]
          },
          "metadata": {},
          "execution_count": 23
        }
      ]
    },
    {
      "cell_type": "code",
      "metadata": {
        "id": "rbYpV32evVng"
      },
      "source": [
        "df = df[['mta_tax', 'total_amount', 'payment_type', 'pickup_hour','trip_duration', 'speed_mph', 'trip_distance', 'pickup_month', 'tip_amount']]"
      ],
      "execution_count": 24,
      "outputs": []
    },
    {
      "cell_type": "code",
      "metadata": {
        "id": "KBg92WhV6ghl"
      },
      "source": [
        "indices_oi = df[(df.total_amount<2.5)].index\n",
        "df.loc[indices_oi,'total_amount'] = 10.8"
      ],
      "execution_count": 25,
      "outputs": []
    },
    {
      "cell_type": "code",
      "metadata": {
        "colab": {
          "base_uri": "https://localhost:8080/",
          "height": 203
        },
        "id": "9hMmmKGCvoiM",
        "outputId": "15d7c4a5-f040-4534-ecfa-8ea563534f48"
      },
      "source": [
        "df.head()"
      ],
      "execution_count": 26,
      "outputs": [
        {
          "output_type": "execute_result",
          "data": {
            "text/html": [
              "<div>\n",
              "<style scoped>\n",
              "    .dataframe tbody tr th:only-of-type {\n",
              "        vertical-align: middle;\n",
              "    }\n",
              "\n",
              "    .dataframe tbody tr th {\n",
              "        vertical-align: top;\n",
              "    }\n",
              "\n",
              "    .dataframe thead th {\n",
              "        text-align: right;\n",
              "    }\n",
              "</style>\n",
              "<table border=\"1\" class=\"dataframe\">\n",
              "  <thead>\n",
              "    <tr style=\"text-align: right;\">\n",
              "      <th></th>\n",
              "      <th>mta_tax</th>\n",
              "      <th>total_amount</th>\n",
              "      <th>payment_type</th>\n",
              "      <th>pickup_hour</th>\n",
              "      <th>trip_duration</th>\n",
              "      <th>speed_mph</th>\n",
              "      <th>trip_distance</th>\n",
              "      <th>pickup_month</th>\n",
              "      <th>tip_amount</th>\n",
              "    </tr>\n",
              "  </thead>\n",
              "  <tbody>\n",
              "    <tr>\n",
              "      <th>0</th>\n",
              "      <td>0.5</td>\n",
              "      <td>9.80</td>\n",
              "      <td>2</td>\n",
              "      <td>0</td>\n",
              "      <td>9.833333</td>\n",
              "      <td>10.433898</td>\n",
              "      <td>1.71</td>\n",
              "      <td>1</td>\n",
              "      <td>0.00</td>\n",
              "    </tr>\n",
              "    <tr>\n",
              "      <th>1</th>\n",
              "      <td>0.5</td>\n",
              "      <td>7.80</td>\n",
              "      <td>2</td>\n",
              "      <td>0</td>\n",
              "      <td>5.433333</td>\n",
              "      <td>15.901840</td>\n",
              "      <td>1.44</td>\n",
              "      <td>1</td>\n",
              "      <td>0.00</td>\n",
              "    </tr>\n",
              "    <tr>\n",
              "      <th>2</th>\n",
              "      <td>0.5</td>\n",
              "      <td>15.96</td>\n",
              "      <td>1</td>\n",
              "      <td>0</td>\n",
              "      <td>8.883333</td>\n",
              "      <td>23.302064</td>\n",
              "      <td>3.45</td>\n",
              "      <td>1</td>\n",
              "      <td>2.66</td>\n",
              "    </tr>\n",
              "    <tr>\n",
              "      <th>3</th>\n",
              "      <td>0.5</td>\n",
              "      <td>11.80</td>\n",
              "      <td>2</td>\n",
              "      <td>0</td>\n",
              "      <td>12.716667</td>\n",
              "      <td>9.955439</td>\n",
              "      <td>2.11</td>\n",
              "      <td>1</td>\n",
              "      <td>0.00</td>\n",
              "    </tr>\n",
              "    <tr>\n",
              "      <th>4</th>\n",
              "      <td>0.5</td>\n",
              "      <td>12.80</td>\n",
              "      <td>2</td>\n",
              "      <td>0</td>\n",
              "      <td>18.066667</td>\n",
              "      <td>9.166052</td>\n",
              "      <td>2.76</td>\n",
              "      <td>1</td>\n",
              "      <td>0.00</td>\n",
              "    </tr>\n",
              "  </tbody>\n",
              "</table>\n",
              "</div>"
            ],
            "text/plain": [
              "   mta_tax  total_amount  payment_type  ...  trip_distance  pickup_month  tip_amount\n",
              "0      0.5          9.80             2  ...           1.71             1        0.00\n",
              "1      0.5          7.80             2  ...           1.44             1        0.00\n",
              "2      0.5         15.96             1  ...           3.45             1        2.66\n",
              "3      0.5         11.80             2  ...           2.11             1        0.00\n",
              "4      0.5         12.80             2  ...           2.76             1        0.00\n",
              "\n",
              "[5 rows x 9 columns]"
            ]
          },
          "metadata": {},
          "execution_count": 26
        }
      ]
    },
    {
      "cell_type": "code",
      "metadata": {
        "colab": {
          "base_uri": "https://localhost:8080/"
        },
        "id": "sWXbVH7QwNNH",
        "outputId": "12d03e6c-3977-4b5b-c75b-2e5700db2b24"
      },
      "source": [
        "df.shape"
      ],
      "execution_count": 27,
      "outputs": [
        {
          "output_type": "execute_result",
          "data": {
            "text/plain": [
              "(2093524, 9)"
            ]
          },
          "metadata": {},
          "execution_count": 27
        }
      ]
    },
    {
      "cell_type": "code",
      "metadata": {
        "id": "i8l99o7ZWRdK"
      },
      "source": [
        "# Converting all the objects type columns to integer, to make the algorithm learn about the values\n",
        "le = LabelEncoder()"
      ],
      "execution_count": 28,
      "outputs": []
    },
    {
      "cell_type": "code",
      "metadata": {
        "colab": {
          "base_uri": "https://localhost:8080/"
        },
        "id": "PSCDveo4W72N",
        "outputId": "e4778bbb-6d60-4477-cda2-7ae5158b7b7c"
      },
      "source": [
        "objList = df.select_dtypes(include = \"object\").columns\n",
        "print (objList)\n",
        "for feat in objList:\n",
        "    df[feat] = le.fit_transform(df[feat].astype(str))\n",
        "\n",
        "print (df.info())"
      ],
      "execution_count": 29,
      "outputs": [
        {
          "output_type": "stream",
          "name": "stdout",
          "text": [
            "Index([], dtype='object')\n",
            "<class 'pandas.core.frame.DataFrame'>\n",
            "RangeIndex: 2093524 entries, 0 to 2093523\n",
            "Data columns (total 9 columns):\n",
            " #   Column         Dtype  \n",
            "---  ------         -----  \n",
            " 0   mta_tax        float64\n",
            " 1   total_amount   float64\n",
            " 2   payment_type   int64  \n",
            " 3   pickup_hour    int64  \n",
            " 4   trip_duration  float64\n",
            " 5   speed_mph      float64\n",
            " 6   trip_distance  float64\n",
            " 7   pickup_month   int64  \n",
            " 8   tip_amount     float64\n",
            "dtypes: float64(6), int64(3)\n",
            "memory usage: 143.8 MB\n",
            "None\n"
          ]
        }
      ]
    },
    {
      "cell_type": "markdown",
      "metadata": {
        "id": "Zd7tLkRl5DDq"
      },
      "source": [
        "Few of the questions those arises are:\n",
        "\n",
        "  What are the specific days people may be willing to tip more.\n",
        "  \n",
        "  If the tip is getting delivered in less time, is it increasing the chance of getting tips at a higher rate"
      ]
    },
    {
      "cell_type": "code",
      "metadata": {
        "colab": {
          "base_uri": "https://localhost:8080/",
          "height": 1000
        },
        "id": "UllPISkBCoaF",
        "outputId": "963222bc-d7ab-47c6-8cbf-c9eee4909df7"
      },
      "source": [
        "## Here we will compare the difference between All feature with Rented Bike Count\n",
        "\n",
        "for feature in df.columns:\n",
        "    if feature!='tip_amount':\n",
        "        data=df.copy()\n",
        "        plt.scatter(data[feature],data['tip_amount'])\n",
        "        plt.xlabel(feature)\n",
        "        plt.ylabel('tip_amount')\n",
        "        plt.show()"
      ],
      "execution_count": 30,
      "outputs": [
        {
          "output_type": "display_data",
          "data": {
            "image/png": "[encoded data removed]",
            "text/plain": [
              "<Figure size 432x288 with 1 Axes>"
            ]
          },
          "metadata": {
            "needs_background": "light"
          }
        },
        {
          "output_type": "display_data",
          "data": {
            "image/png": "[encoded data removed]",
            "text/plain": [
              "<Figure size 432x288 with 1 Axes>"
            ]
          },
          "metadata": {
            "needs_background": "light"
          }
        },
        {
          "output_type": "display_data",
          "data": {
            "image/png": "[encoded data removed]",
            "text/plain": [
              "<Figure size 432x288 with 1 Axes>"
            ]
          },
          "metadata": {
            "needs_background": "light"
          }
        },
        {
          "output_type": "display_data",
          "data": {
            "image/png": "[encoded data removed]",
            "text/plain": [
              "<Figure size 432x288 with 1 Axes>"
            ]
          },
          "metadata": {
            "needs_background": "light"
          }
        },
        {
          "output_type": "display_data",
          "data": {
            "image/png": "[encoded data removed]",
            "text/plain": [
              "<Figure size 432x288 with 1 Axes>"
            ]
          },
          "metadata": {
            "needs_background": "light"
          }
        },
        {
          "output_type": "display_data",
          "data": {
            "image/png": "[encoded data removed]",
            "text/plain": [
              "<Figure size 432x288 with 1 Axes>"
            ]
          },
          "metadata": {
            "needs_background": "light"
          }
        },
        {
          "output_type": "display_data",
          "data": {
            "image/png": "[encoded data removed]",
            "text/plain": [
              "<Figure size 432x288 with 1 Axes>"
            ]
          },
          "metadata": {
            "needs_background": "light"
          }
        },
        {
          "output_type": "display_data",
          "data": {
            "image/png": "[encoded data removed]",
            "text/plain": [
              "<Figure size 432x288 with 1 Axes>"
            ]
          },
          "metadata": {
            "needs_background": "light"
          }
        }
      ]
    },
    {
      "cell_type": "code",
      "metadata": {
        "colab": {
          "base_uri": "https://localhost:8080/",
          "height": 500
        },
        "id": "bEEi7WaBC3V9",
        "outputId": "7fd23447-745a-4dc9-c31e-1f666deff504"
      },
      "source": [
        "plt.figure(figsize = (15,25))\n",
        "count = 1\n",
        "for col in df:\n",
        "    plt.subplot(9,3,count)\n",
        "    plt.boxplot(df[col])\n",
        "    plt.title(col)\n",
        "    count += 1\n",
        "\n",
        "plt.show()"
      ],
      "execution_count": 31,
      "outputs": [
        {
          "output_type": "display_data",
          "data": {
            "image/png": "[encoded data removed]",
            "text/plain": [
              "<Figure size 1080x1800 with 9 Axes>"
            ]
          },
          "metadata": {
            "needs_background": "light"
          }
        }
      ]
    },
    {
      "cell_type": "code",
      "metadata": {
        "colab": {
          "base_uri": "https://localhost:8080/",
          "height": 886
        },
        "id": "XX2etv9NC9o_",
        "outputId": "87d6d565-60ac-43b8-9d1b-330bc7bdad7b"
      },
      "source": [
        "correlation = df.corr()\n",
        "plt.figure(figsize = (15,15))\n",
        "cmap= sns.diverging_palette(100, 10)\n",
        "sns.heatmap(correlation, annot = True, cmap =cmap, center = 0)"
      ],
      "execution_count": 32,
      "outputs": [
        {
          "output_type": "execute_result",
          "data": {
            "text/plain": [
              "<matplotlib.axes._subplots.AxesSubplot at 0x7fe17b6c26d0>"
            ]
          },
          "metadata": {},
          "execution_count": 32
        },
        {
          "output_type": "display_data",
          "data": {
            "image/png": "[encoded data removed]",
            "text/plain": [
              "<Figure size 1080x1080 with 2 Axes>"
            ]
          },
          "metadata": {
            "needs_background": "light"
          }
        }
      ]
    },
    {
      "cell_type": "code",
      "metadata": {
        "colab": {
          "base_uri": "https://localhost:8080/",
          "height": 203
        },
        "id": "rUnrK3iwDdeN",
        "outputId": "861eb80a-8227-4ec7-9c04-3cc3e7b1ab5a"
      },
      "source": [
        "df.head()"
      ],
      "execution_count": 33,
      "outputs": [
        {
          "output_type": "execute_result",
          "data": {
            "text/html": [
              "<div>\n",
              "<style scoped>\n",
              "    .dataframe tbody tr th:only-of-type {\n",
              "        vertical-align: middle;\n",
              "    }\n",
              "\n",
              "    .dataframe tbody tr th {\n",
              "        vertical-align: top;\n",
              "    }\n",
              "\n",
              "    .dataframe thead th {\n",
              "        text-align: right;\n",
              "    }\n",
              "</style>\n",
              "<table border=\"1\" class=\"dataframe\">\n",
              "  <thead>\n",
              "    <tr style=\"text-align: right;\">\n",
              "      <th></th>\n",
              "      <th>mta_tax</th>\n",
              "      <th>total_amount</th>\n",
              "      <th>payment_type</th>\n",
              "      <th>pickup_hour</th>\n",
              "      <th>trip_duration</th>\n",
              "      <th>speed_mph</th>\n",
              "      <th>trip_distance</th>\n",
              "      <th>pickup_month</th>\n",
              "      <th>tip_amount</th>\n",
              "    </tr>\n",
              "  </thead>\n",
              "  <tbody>\n",
              "    <tr>\n",
              "      <th>0</th>\n",
              "      <td>0.5</td>\n",
              "      <td>9.80</td>\n",
              "      <td>2</td>\n",
              "      <td>0</td>\n",
              "      <td>9.833333</td>\n",
              "      <td>10.433898</td>\n",
              "      <td>1.71</td>\n",
              "      <td>1</td>\n",
              "      <td>0.00</td>\n",
              "    </tr>\n",
              "    <tr>\n",
              "      <th>1</th>\n",
              "      <td>0.5</td>\n",
              "      <td>7.80</td>\n",
              "      <td>2</td>\n",
              "      <td>0</td>\n",
              "      <td>5.433333</td>\n",
              "      <td>15.901840</td>\n",
              "      <td>1.44</td>\n",
              "      <td>1</td>\n",
              "      <td>0.00</td>\n",
              "    </tr>\n",
              "    <tr>\n",
              "      <th>2</th>\n",
              "      <td>0.5</td>\n",
              "      <td>15.96</td>\n",
              "      <td>1</td>\n",
              "      <td>0</td>\n",
              "      <td>8.883333</td>\n",
              "      <td>23.302064</td>\n",
              "      <td>3.45</td>\n",
              "      <td>1</td>\n",
              "      <td>2.66</td>\n",
              "    </tr>\n",
              "    <tr>\n",
              "      <th>3</th>\n",
              "      <td>0.5</td>\n",
              "      <td>11.80</td>\n",
              "      <td>2</td>\n",
              "      <td>0</td>\n",
              "      <td>12.716667</td>\n",
              "      <td>9.955439</td>\n",
              "      <td>2.11</td>\n",
              "      <td>1</td>\n",
              "      <td>0.00</td>\n",
              "    </tr>\n",
              "    <tr>\n",
              "      <th>4</th>\n",
              "      <td>0.5</td>\n",
              "      <td>12.80</td>\n",
              "      <td>2</td>\n",
              "      <td>0</td>\n",
              "      <td>18.066667</td>\n",
              "      <td>9.166052</td>\n",
              "      <td>2.76</td>\n",
              "      <td>1</td>\n",
              "      <td>0.00</td>\n",
              "    </tr>\n",
              "  </tbody>\n",
              "</table>\n",
              "</div>"
            ],
            "text/plain": [
              "   mta_tax  total_amount  payment_type  ...  trip_distance  pickup_month  tip_amount\n",
              "0      0.5          9.80             2  ...           1.71             1        0.00\n",
              "1      0.5          7.80             2  ...           1.44             1        0.00\n",
              "2      0.5         15.96             1  ...           3.45             1        2.66\n",
              "3      0.5         11.80             2  ...           2.11             1        0.00\n",
              "4      0.5         12.80             2  ...           2.76             1        0.00\n",
              "\n",
              "[5 rows x 9 columns]"
            ]
          },
          "metadata": {},
          "execution_count": 33
        }
      ]
    },
    {
      "cell_type": "markdown",
      "metadata": {
        "id": "KOf3T84FSaXY"
      },
      "source": [
        "Using Januray Data for Training purpose and February data for Testing purpose"
      ]
    },
    {
      "cell_type": "code",
      "metadata": {
        "id": "Im4FxSs7FaE0"
      },
      "source": [
        "train = df[df['pickup_month'] == 1]\n",
        "test = df[df['pickup_month'] == 2]"
      ],
      "execution_count": 34,
      "outputs": []
    },
    {
      "cell_type": "code",
      "metadata": {
        "id": "p2hSQTZiznVP"
      },
      "source": [
        "train = train.drop([\"pickup_month\"],axis =1)\n",
        "test = test.drop([\"pickup_month\"],axis =1)"
      ],
      "execution_count": 35,
      "outputs": []
    },
    {
      "cell_type": "code",
      "metadata": {
        "id": "eRYsJD1Z7gmu"
      },
      "source": [
        "train = train.reset_index()\n",
        "test = test.reset_index()"
      ],
      "execution_count": 36,
      "outputs": []
    },
    {
      "cell_type": "code",
      "metadata": {
        "id": "mY1mm07n5B05"
      },
      "source": [
        "train.dropna(inplace = True)\n",
        "test.dropna(inplace = True)"
      ],
      "execution_count": 37,
      "outputs": []
    },
    {
      "cell_type": "code",
      "metadata": {
        "colab": {
          "base_uri": "https://localhost:8080/"
        },
        "id": "o8DfcBvg5jyJ",
        "outputId": "d4d157f6-521d-4075-b795-feb163fb7c98"
      },
      "source": [
        "train.isnull().sum()"
      ],
      "execution_count": 38,
      "outputs": [
        {
          "output_type": "execute_result",
          "data": {
            "text/plain": [
              "index            0\n",
              "mta_tax          0\n",
              "total_amount     0\n",
              "payment_type     0\n",
              "pickup_hour      0\n",
              "trip_duration    0\n",
              "speed_mph        0\n",
              "trip_distance    0\n",
              "tip_amount       0\n",
              "dtype: int64"
            ]
          },
          "metadata": {},
          "execution_count": 38
        }
      ]
    },
    {
      "cell_type": "code",
      "metadata": {
        "colab": {
          "base_uri": "https://localhost:8080/"
        },
        "id": "ZjsaEZo35rwo",
        "outputId": "41bae294-0c8e-4f17-e3d3-8c576d00ea33"
      },
      "source": [
        "test.isnull().sum()"
      ],
      "execution_count": 39,
      "outputs": [
        {
          "output_type": "execute_result",
          "data": {
            "text/plain": [
              "index            0\n",
              "mta_tax          0\n",
              "total_amount     0\n",
              "payment_type     0\n",
              "pickup_hour      0\n",
              "trip_duration    0\n",
              "speed_mph        0\n",
              "trip_distance    0\n",
              "tip_amount       0\n",
              "dtype: int64"
            ]
          },
          "metadata": {},
          "execution_count": 39
        }
      ]
    },
    {
      "cell_type": "code",
      "metadata": {
        "colab": {
          "base_uri": "https://localhost:8080/",
          "height": 203
        },
        "id": "WGTQQpWLFllP",
        "outputId": "f4556196-f22b-4e2f-a99e-f0f6f1c71d2b"
      },
      "source": [
        "train.head()"
      ],
      "execution_count": 40,
      "outputs": [
        {
          "output_type": "execute_result",
          "data": {
            "text/html": [
              "<div>\n",
              "<style scoped>\n",
              "    .dataframe tbody tr th:only-of-type {\n",
              "        vertical-align: middle;\n",
              "    }\n",
              "\n",
              "    .dataframe tbody tr th {\n",
              "        vertical-align: top;\n",
              "    }\n",
              "\n",
              "    .dataframe thead th {\n",
              "        text-align: right;\n",
              "    }\n",
              "</style>\n",
              "<table border=\"1\" class=\"dataframe\">\n",
              "  <thead>\n",
              "    <tr style=\"text-align: right;\">\n",
              "      <th></th>\n",
              "      <th>index</th>\n",
              "      <th>mta_tax</th>\n",
              "      <th>total_amount</th>\n",
              "      <th>payment_type</th>\n",
              "      <th>pickup_hour</th>\n",
              "      <th>trip_duration</th>\n",
              "      <th>speed_mph</th>\n",
              "      <th>trip_distance</th>\n",
              "      <th>tip_amount</th>\n",
              "    </tr>\n",
              "  </thead>\n",
              "  <tbody>\n",
              "    <tr>\n",
              "      <th>0</th>\n",
              "      <td>0</td>\n",
              "      <td>0.5</td>\n",
              "      <td>9.80</td>\n",
              "      <td>2</td>\n",
              "      <td>0</td>\n",
              "      <td>9.833333</td>\n",
              "      <td>10.433898</td>\n",
              "      <td>1.71</td>\n",
              "      <td>0.00</td>\n",
              "    </tr>\n",
              "    <tr>\n",
              "      <th>1</th>\n",
              "      <td>1</td>\n",
              "      <td>0.5</td>\n",
              "      <td>7.80</td>\n",
              "      <td>2</td>\n",
              "      <td>0</td>\n",
              "      <td>5.433333</td>\n",
              "      <td>15.901840</td>\n",
              "      <td>1.44</td>\n",
              "      <td>0.00</td>\n",
              "    </tr>\n",
              "    <tr>\n",
              "      <th>2</th>\n",
              "      <td>2</td>\n",
              "      <td>0.5</td>\n",
              "      <td>15.96</td>\n",
              "      <td>1</td>\n",
              "      <td>0</td>\n",
              "      <td>8.883333</td>\n",
              "      <td>23.302064</td>\n",
              "      <td>3.45</td>\n",
              "      <td>2.66</td>\n",
              "    </tr>\n",
              "    <tr>\n",
              "      <th>3</th>\n",
              "      <td>3</td>\n",
              "      <td>0.5</td>\n",
              "      <td>11.80</td>\n",
              "      <td>2</td>\n",
              "      <td>0</td>\n",
              "      <td>12.716667</td>\n",
              "      <td>9.955439</td>\n",
              "      <td>2.11</td>\n",
              "      <td>0.00</td>\n",
              "    </tr>\n",
              "    <tr>\n",
              "      <th>4</th>\n",
              "      <td>4</td>\n",
              "      <td>0.5</td>\n",
              "      <td>12.80</td>\n",
              "      <td>2</td>\n",
              "      <td>0</td>\n",
              "      <td>18.066667</td>\n",
              "      <td>9.166052</td>\n",
              "      <td>2.76</td>\n",
              "      <td>0.00</td>\n",
              "    </tr>\n",
              "  </tbody>\n",
              "</table>\n",
              "</div>"
            ],
            "text/plain": [
              "   index  mta_tax  total_amount  ...  speed_mph  trip_distance  tip_amount\n",
              "0      0      0.5          9.80  ...  10.433898           1.71        0.00\n",
              "1      1      0.5          7.80  ...  15.901840           1.44        0.00\n",
              "2      2      0.5         15.96  ...  23.302064           3.45        2.66\n",
              "3      3      0.5         11.80  ...   9.955439           2.11        0.00\n",
              "4      4      0.5         12.80  ...   9.166052           2.76        0.00\n",
              "\n",
              "[5 rows x 9 columns]"
            ]
          },
          "metadata": {},
          "execution_count": 40
        }
      ]
    },
    {
      "cell_type": "code",
      "metadata": {
        "colab": {
          "base_uri": "https://localhost:8080/",
          "height": 203
        },
        "id": "oB_keK97Ftxl",
        "outputId": "08e02adc-1c34-4535-f6b3-4abf30fe6f82"
      },
      "source": [
        "test.head()"
      ],
      "execution_count": 41,
      "outputs": [
        {
          "output_type": "execute_result",
          "data": {
            "text/html": [
              "<div>\n",
              "<style scoped>\n",
              "    .dataframe tbody tr th:only-of-type {\n",
              "        vertical-align: middle;\n",
              "    }\n",
              "\n",
              "    .dataframe tbody tr th {\n",
              "        vertical-align: top;\n",
              "    }\n",
              "\n",
              "    .dataframe thead th {\n",
              "        text-align: right;\n",
              "    }\n",
              "</style>\n",
              "<table border=\"1\" class=\"dataframe\">\n",
              "  <thead>\n",
              "    <tr style=\"text-align: right;\">\n",
              "      <th></th>\n",
              "      <th>index</th>\n",
              "      <th>mta_tax</th>\n",
              "      <th>total_amount</th>\n",
              "      <th>payment_type</th>\n",
              "      <th>pickup_hour</th>\n",
              "      <th>trip_duration</th>\n",
              "      <th>speed_mph</th>\n",
              "      <th>trip_distance</th>\n",
              "      <th>tip_amount</th>\n",
              "    </tr>\n",
              "  </thead>\n",
              "  <tbody>\n",
              "    <tr>\n",
              "      <th>0</th>\n",
              "      <td>1070261</td>\n",
              "      <td>0.5</td>\n",
              "      <td>19.24</td>\n",
              "      <td>1</td>\n",
              "      <td>0</td>\n",
              "      <td>6.900000</td>\n",
              "      <td>39.478261</td>\n",
              "      <td>4.54</td>\n",
              "      <td>4.44</td>\n",
              "    </tr>\n",
              "    <tr>\n",
              "      <th>1</th>\n",
              "      <td>1070262</td>\n",
              "      <td>0.5</td>\n",
              "      <td>14.80</td>\n",
              "      <td>2</td>\n",
              "      <td>0</td>\n",
              "      <td>14.666667</td>\n",
              "      <td>13.131818</td>\n",
              "      <td>3.21</td>\n",
              "      <td>0.00</td>\n",
              "    </tr>\n",
              "    <tr>\n",
              "      <th>2</th>\n",
              "      <td>1070263</td>\n",
              "      <td>0.5</td>\n",
              "      <td>10.30</td>\n",
              "      <td>1</td>\n",
              "      <td>0</td>\n",
              "      <td>8.600000</td>\n",
              "      <td>11.372093</td>\n",
              "      <td>1.63</td>\n",
              "      <td>1.00</td>\n",
              "    </tr>\n",
              "    <tr>\n",
              "      <th>3</th>\n",
              "      <td>1070264</td>\n",
              "      <td>0.5</td>\n",
              "      <td>6.80</td>\n",
              "      <td>2</td>\n",
              "      <td>0</td>\n",
              "      <td>5.116667</td>\n",
              "      <td>8.912052</td>\n",
              "      <td>0.76</td>\n",
              "      <td>0.00</td>\n",
              "    </tr>\n",
              "    <tr>\n",
              "      <th>4</th>\n",
              "      <td>1070265</td>\n",
              "      <td>0.5</td>\n",
              "      <td>10.80</td>\n",
              "      <td>1</td>\n",
              "      <td>0</td>\n",
              "      <td>6.466667</td>\n",
              "      <td>20.783505</td>\n",
              "      <td>2.24</td>\n",
              "      <td>1.00</td>\n",
              "    </tr>\n",
              "  </tbody>\n",
              "</table>\n",
              "</div>"
            ],
            "text/plain": [
              "     index  mta_tax  total_amount  ...  speed_mph  trip_distance  tip_amount\n",
              "0  1070261      0.5         19.24  ...  39.478261           4.54        4.44\n",
              "1  1070262      0.5         14.80  ...  13.131818           3.21        0.00\n",
              "2  1070263      0.5         10.30  ...  11.372093           1.63        1.00\n",
              "3  1070264      0.5          6.80  ...   8.912052           0.76        0.00\n",
              "4  1070265      0.5         10.80  ...  20.783505           2.24        1.00\n",
              "\n",
              "[5 rows x 9 columns]"
            ]
          },
          "metadata": {},
          "execution_count": 41
        }
      ]
    },
    {
      "cell_type": "code",
      "metadata": {
        "id": "ajfvPa0WFvU6"
      },
      "source": [
        "X_train = train.iloc[:, :6]\n",
        "y_train = train[\"tip_amount\"]\n",
        "\n",
        "X_test = test.iloc[:, :6]\n",
        "y_test = test[\"tip_amount\"]"
      ],
      "execution_count": 42,
      "outputs": []
    },
    {
      "cell_type": "markdown",
      "metadata": {
        "id": "DFqXiJM0RSEl"
      },
      "source": [
        "Reason for using Random Forest Regressor#\n",
        "\n",
        "Large data set,\n",
        "Less chance of High Variance, can counter Variance that arises in Decision Tree."
      ]
    },
    {
      "cell_type": "code",
      "metadata": {
        "id": "DEY3eXU3Glw3"
      },
      "source": [
        "from sklearn.ensemble import RandomForestRegressor\n",
        "regressor = RandomForestRegressor()"
      ],
      "execution_count": 43,
      "outputs": []
    },
    {
      "cell_type": "code",
      "metadata": {
        "colab": {
          "base_uri": "https://localhost:8080/"
        },
        "id": "GX3Yb46-KzWJ",
        "outputId": "3e8b46ae-cc27-494f-9e40-78f6f03e1333"
      },
      "source": [
        "regressor.fit(X_train, y_train)"
      ],
      "execution_count": 44,
      "outputs": [
        {
          "output_type": "execute_result",
          "data": {
            "text/plain": [
              "RandomForestRegressor(bootstrap=True, ccp_alpha=0.0, criterion='mse',\n",
              "                      max_depth=None, max_features='auto', max_leaf_nodes=None,\n",
              "                      max_samples=None, min_impurity_decrease=0.0,\n",
              "                      min_impurity_split=None, min_samples_leaf=1,\n",
              "                      min_samples_split=2, min_weight_fraction_leaf=0.0,\n",
              "                      n_estimators=100, n_jobs=None, oob_score=False,\n",
              "                      random_state=None, verbose=0, warm_start=False)"
            ]
          },
          "metadata": {},
          "execution_count": 44
        }
      ]
    },
    {
      "cell_type": "code",
      "metadata": {
        "colab": {
          "base_uri": "https://localhost:8080/"
        },
        "id": "PPuFOGQlK6vh",
        "outputId": "acba5267-e929-4790-9118-2672c8917558"
      },
      "source": [
        "from sklearn.metrics import r2_score\n",
        "y_pred = regressor.predict(X_test)\n",
        "print(\"R2 Score: \", r2_score(y_test, y_pred))"
      ],
      "execution_count": 45,
      "outputs": [
        {
          "output_type": "stream",
          "name": "stdout",
          "text": [
            "R2 Score:  0.7315431803962411\n"
          ]
        }
      ]
    },
    {
      "cell_type": "code",
      "metadata": {
        "colab": {
          "base_uri": "https://localhost:8080/",
          "height": 282
        },
        "id": "5LJQyD7ISCC7",
        "outputId": "80097fa7-6da9-45eb-d14e-70395227ba0e"
      },
      "source": [
        "plt.scatter(y_test,y_pred)"
      ],
      "execution_count": 56,
      "outputs": [
        {
          "output_type": "execute_result",
          "data": {
            "text/plain": [
              "<matplotlib.collections.PathCollection at 0x7fe1073a5d10>"
            ]
          },
          "metadata": {},
          "execution_count": 56
        },
        {
          "output_type": "display_data",
          "data": {
            "image/png": "[encoded data removed]",
            "text/plain": [
              "<Figure size 432x288 with 1 Axes>"
            ]
          },
          "metadata": {
            "needs_background": "light"
          }
        }
      ]
    },
    {
      "cell_type": "markdown",
      "metadata": {
        "id": "thBnqKNWSLOd"
      },
      "source": [
        "To Perform Cross validation technique we can use below code and can get better R2 Score."
      ]
    },
    {
      "cell_type": "code",
      "metadata": {
        "id": "sHuhhpf-ISvu"
      },
      "source": [
        "n_estimators = [int(x) for x in np.linspace(start = 100, stop = 1200, num = 12)]\n",
        "print(n_estimators)"
      ],
      "execution_count": null,
      "outputs": []
    },
    {
      "cell_type": "code",
      "metadata": {
        "id": "iU2LB8UqISyf"
      },
      "source": [
        "from sklearn.model_selection import RandomizedSearchCV"
      ],
      "execution_count": 47,
      "outputs": []
    },
    {
      "cell_type": "code",
      "metadata": {
        "id": "AMmk6JYIIS11"
      },
      "source": [
        "# Randomized Search CV\n",
        "\n",
        "# Number of trees in random forest\n",
        "n_estimators = [int(x) for x in np.linspace(start = 100, stop = 1200, num = 12)]\n",
        "# Number of features to consider at every split\n",
        "max_features = ['auto', 'sqrt']\n",
        "#maximum number of levels in tree\n",
        "max_depth = [int(x) for x in np.linspace(5,30,num=6)]\n",
        "#Minimum number of samples required to split a node\n",
        "min_samples_split = [2,5,10,15,100]\n",
        "#Minimum number of samples required at each leaf node\n",
        "min_samples_leaf = [1,2,5,10]"
      ],
      "execution_count": 48,
      "outputs": []
    },
    {
      "cell_type": "code",
      "metadata": {
        "colab": {
          "base_uri": "https://localhost:8080/"
        },
        "id": "_IdZcWAOIS5W",
        "outputId": "68f4a1e1-4ae2-4ce8-850e-8ed1c3a99f15"
      },
      "source": [
        "# create the random grid\n",
        "random_grid = {'n_estimators': n_estimators,\n",
        "               'max_features': max_features,\n",
        "               'max_depth': max_depth,\n",
        "               'min_samples_split': min_samples_split,\n",
        "               'min_samples_leaf': min_samples_leaf}\n",
        "\n",
        "print(random_grid)"
      ],
      "execution_count": 49,
      "outputs": [
        {
          "output_type": "stream",
          "name": "stdout",
          "text": [
            "{'n_estimators': [100, 200, 300, 400, 500, 600, 700, 800, 900, 1000, 1100, 1200], 'max_features': ['auto', 'sqrt'], 'max_depth': [5, 10, 15, 20, 25, 30], 'min_samples_split': [2, 5, 10, 15, 100], 'min_samples_leaf': [1, 2, 5, 10]}\n"
          ]
        }
      ]
    },
    {
      "cell_type": "code",
      "metadata": {
        "id": "4R98nUtFIYJj"
      },
      "source": [
        "# Use the Random grid to search for best hyperparameters\n",
        "# First Create the base model to tune\n",
        "rf = RandomForestRegressor()"
      ],
      "execution_count": 50,
      "outputs": []
    },
    {
      "cell_type": "code",
      "metadata": {
        "id": "JOWPBuIXIS8g"
      },
      "source": [
        "# Random search of parameters, using 3 fold cross validation, \n",
        "# search across 100 different combinations\n",
        "model = RandomizedSearchCV(estimator = rf, param_distributions = random_grid,scoring='neg_mean_squared_error', n_iter = 10, cv = 3, random_state=42)"
      ],
      "execution_count": 53,
      "outputs": []
    },
    {
      "cell_type": "code",
      "metadata": {
        "id": "NxL2MitLIS_o"
      },
      "source": [
        "model.fit(X_train, y_train)"
      ],
      "execution_count": 57,
      "outputs": []
    },
    {
      "cell_type": "code",
      "metadata": {
        "id": "kFDXqFSEITC8"
      },
      "source": [
        "model.best_params_"
      ],
      "execution_count": null,
      "outputs": []
    },
    {
      "cell_type": "code",
      "metadata": {
        "id": "CsWClprQIgki"
      },
      "source": [
        "y_pred = model.predict(X_test)"
      ],
      "execution_count": null,
      "outputs": []
    },
    {
      "cell_type": "code",
      "metadata": {
        "id": "AEmedC_GIgra"
      },
      "source": [
        "plt.scatter(y_test,y_pred)"
      ],
      "execution_count": null,
      "outputs": []
    },
    {
      "cell_type": "code",
      "metadata": {
        "id": "Ji-5q5AGIgu2"
      },
      "source": [
        "print(\"R2 Score: \", r2_score(y_test, y_pred))"
      ],
      "execution_count": null,
      "outputs": []
    }
  ]
}